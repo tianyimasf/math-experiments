{
 "cells": [
  {
   "cell_type": "code",
   "execution_count": 1,
   "metadata": {},
   "outputs": [],
   "source": [
    "import pandas as pd"
   ]
  },
  {
   "cell_type": "code",
   "execution_count": 2,
   "metadata": {},
   "outputs": [],
   "source": [
    "worstCases = pd.read_csv(\"worstCasesUnder1thousand.csv\")\n",
    "specialWorstCases = worstCases[worstCases[\"|2A^2|/(|A| 2)\"] < 0.75]\n",
    "q_list = specialWorstCases[\"q\"]\n",
    "regularWorstCases = worstCases[worstCases[\"|2A^2|/(|A| 2)\"] >= 0.75]\n",
    "q_list2 = regularWorstCases[\"q\"]"
   ]
  },
  {
   "cell_type": "code",
   "execution_count": 21,
   "metadata": {},
   "outputs": [],
   "source": [
    "def modnDistribution(n, q_list):\n",
    "    result = []\n",
    "    for q in q_list:\n",
    "        mod = q%n\n",
    "        result.append(mod)\n",
    "    col_str = \"mod \"+str(n)\n",
    "    result_df = pd.DataFrame(result, columns = [col_str])\n",
    "    result_value_count = result_df.value_counts()\n",
    "    result_value_count = result_value_count/len(q_list)\n",
    "    print(result_value_count.sort_values(ascending=False))"
   ]
  },
  {
   "cell_type": "code",
   "execution_count": 22,
   "metadata": {},
   "outputs": [
    {
     "name": "stdout",
     "output_type": "stream",
     "text": [
      "mod 32\n",
      "15        0.157895\n",
      "27        0.157895\n",
      "7         0.131579\n",
      "11        0.131579\n",
      "23        0.131579\n",
      "3         0.105263\n",
      "19        0.105263\n",
      "31        0.078947\n",
      "dtype: float64\n"
     ]
    }
   ],
   "source": [
    "modnDistribution(32, q_list)"
   ]
  },
  {
   "cell_type": "code",
   "execution_count": null,
   "metadata": {},
   "outputs": [],
   "source": []
  }
 ],
 "metadata": {
  "kernelspec": {
   "display_name": "Python 3",
   "language": "python",
   "name": "python3"
  },
  "language_info": {
   "codemirror_mode": {
    "name": "ipython",
    "version": 3
   },
   "file_extension": ".py",
   "mimetype": "text/x-python",
   "name": "python",
   "nbconvert_exporter": "python",
   "pygments_lexer": "ipython3",
   "version": "3.8.6"
  }
 },
 "nbformat": 4,
 "nbformat_minor": 4
}
