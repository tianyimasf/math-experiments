{
 "cells": [
  {
   "cell_type": "code",
   "execution_count": 1,
   "metadata": {},
   "outputs": [],
   "source": [
    "import pandas as pd"
   ]
  },
  {
   "cell_type": "code",
   "execution_count": 4,
   "metadata": {},
   "outputs": [],
   "source": [
    "def modClasses(n):\n",
    "    modClasses = []\n",
    "    for i in range(0, n):\n",
    "        if i%4 == 3:\n",
    "            modClasses.append(i)\n",
    "    return modClasses"
   ]
  },
  {
   "cell_type": "code",
   "execution_count": 122,
   "metadata": {},
   "outputs": [],
   "source": [
    "def compareDistribution(n, distribution1, distribution2):\n",
    "    print(\"mod classes, special case distrbt, good case distrbt\")\n",
    "    for mod in range(n):\n",
    "        q = distribution1[mod]\n",
    "        q2 = distribution2[mod]\n",
    "        if (q==0 and q2!=0) or (q!=0 and q2==0):\n",
    "            print(mod,\"mod\", n, q, q2)"
   ]
  },
  {
   "cell_type": "code",
   "execution_count": 2,
   "metadata": {},
   "outputs": [],
   "source": [
    "worstCases = pd.read_csv(\"worstCasesUnder1thousand.csv\")"
   ]
  },
  {
   "cell_type": "code",
   "execution_count": 3,
   "metadata": {},
   "outputs": [],
   "source": [
    "specialWorstCases = worstCases[worstCases[\"|2A^2|/(|A| 2)\"] < 0.75]\n",
    "q_list = specialWorstCases[\"q\"]\n",
    "regularWorstCases = worstCases[worstCases[\"|2A^2|/(|A| 2)\"] >= 0.75]\n",
    "q_list2 = regularWorstCases[\"q\"]"
   ]
  },
  {
   "cell_type": "code",
   "execution_count": 8,
   "metadata": {},
   "outputs": [],
   "source": [
    "def mod8distribution(q_list):\n",
    "    total = len(q_list)\n",
    "    n0, n1, n2, n3, n4, n5, n6, n7 = (0 for i in range(8))\n",
    "    q0, q1, q2, q3, q4, q5, q6, q7 = ([] for i in range(8))\n",
    "    for q in q_list:\n",
    "        q_mod8 = q%8\n",
    "        if q_mod8 == 0:\n",
    "            q0.append(q)\n",
    "            n0+=1\n",
    "        elif q_mod8 == 1:\n",
    "            q1.append(q)\n",
    "            n1+=1\n",
    "        elif q_mod8 == 2:\n",
    "            q2.append(q)\n",
    "            n2+=1\n",
    "        elif q_mod8 == 3:\n",
    "            q3.append(q)\n",
    "            n3+=1\n",
    "        elif q_mod8 == 4:\n",
    "            q4.append(q)\n",
    "            n4+=1\n",
    "        elif q_mod8 == 5:\n",
    "            q5.append(q)\n",
    "            n5+=1\n",
    "        elif q_mod8 == 6:\n",
    "            q6.append(q)\n",
    "            n6+=1\n",
    "        elif q_mod8 == 7:\n",
    "            q7.append(q)\n",
    "            n7+=1\n",
    "    q_catagorized = [q0, q1, q2, q3, q4, q5, q6, q7]\n",
    "    q_distribution = [n0/total, n1/total, n2/total, n3/total, n4/total, n5/total, n6/total, n7/total]\n",
    "    stat = pd.Series(q_distribution, index=[\"0 mod 8\", \"1 mod 8\", \"2 mod 8\", \"3 mod 8\", \"4 mod 8\", \"5 mod 8\", \"6 mod 8\", \"7 mod 8\"])\n",
    "    print(stat)\n",
    "    return q_catagorized, q_distribution"
   ]
  },
  {
   "cell_type": "code",
   "execution_count": 9,
   "metadata": {},
   "outputs": [
    {
     "name": "stdout",
     "output_type": "stream",
     "text": [
      "0 mod 8    0.0\n",
      "1 mod 8    0.0\n",
      "2 mod 8    0.0\n",
      "3 mod 8    0.5\n",
      "4 mod 8    0.0\n",
      "5 mod 8    0.0\n",
      "6 mod 8    0.0\n",
      "7 mod 8    0.5\n",
      "dtype: float64\n"
     ]
    }
   ],
   "source": [
    "q_catagorized, q_distribution = mod8distribution(q_list)"
   ]
  },
  {
   "cell_type": "code",
   "execution_count": 10,
   "metadata": {},
   "outputs": [],
   "source": [
    "def mod7distribution(q_list):\n",
    "    total = len(q_list)\n",
    "    n0, n1, n2, n3, n4, n5, n6 = (0 for i in range(7))\n",
    "    q0, q1, q2, q3, q4, q5, q6 = ([] for i in range(7))\n",
    "    for q in q_list:\n",
    "        q_mod7 = q%7\n",
    "        if q_mod7 == 0:\n",
    "            q0.append(q)\n",
    "            n0+=1\n",
    "        elif q_mod7 == 1:\n",
    "            q1.append(q)\n",
    "            n1+=1\n",
    "        elif q_mod7 == 2:\n",
    "            q2.append(q)\n",
    "            n2+=1\n",
    "        elif q_mod7 == 3:\n",
    "            q3.append(q)\n",
    "            n3+=1\n",
    "        elif q_mod7 == 4:\n",
    "            q4.append(q)\n",
    "            n4+=1\n",
    "        elif q_mod7 == 5:\n",
    "            q5.append(q)\n",
    "            n5+=1\n",
    "        elif q_mod7 == 6:\n",
    "            q6.append(q)\n",
    "            n6+=1\n",
    "    q_catagorized = [q0, q1, q2, q3, q4, q5, q6]\n",
    "    q_distribution = [n0/total, n1/total, n2/total, n3/total, n4/total, n5/total, n6/total]\n",
    "    stat = pd.Series(q_distribution, index=[\"0 mod 7\", \"1 mod 7\", \"2 mod 7\", \"3 mod 7\", \"4 mod 7\", \"5 mod 7\", \"6 mod 7\"])\n",
    "    print(stat)\n",
    "    return q_catagorized, q_distribution"
   ]
  },
  {
   "cell_type": "code",
   "execution_count": 11,
   "metadata": {},
   "outputs": [
    {
     "name": "stdout",
     "output_type": "stream",
     "text": [
      "0 mod 7    0.000000\n",
      "1 mod 7    0.342105\n",
      "2 mod 7    0.131579\n",
      "3 mod 7    0.052632\n",
      "4 mod 7    0.184211\n",
      "5 mod 7    0.105263\n",
      "6 mod 7    0.184211\n",
      "dtype: float64\n"
     ]
    }
   ],
   "source": [
    "q_catagorized, q_distribution = mod7distribution(q_list)"
   ]
  },
  {
   "cell_type": "code",
   "execution_count": 12,
   "metadata": {},
   "outputs": [],
   "source": [
    "def mod6distribution(q_list):\n",
    "    total = len(q_list)\n",
    "    n0, n1, n2, n3, n4, n5 = (0 for i in range(6))\n",
    "    q0, q1, q2, q3, q4, q5 = ([] for i in range(6))\n",
    "    for q in q_list:\n",
    "        q_mod6 = q%6\n",
    "        if q_mod6 == 0:\n",
    "            q0.append(q)\n",
    "            n0+=1\n",
    "        elif q_mod6 == 1:\n",
    "            q1.append(q)\n",
    "            n1+=1\n",
    "        elif q_mod6 == 2:\n",
    "            q2.append(q)\n",
    "            n2+=1\n",
    "        elif q_mod6 == 3:\n",
    "            q3.append(q)\n",
    "            n3+=1\n",
    "        elif q_mod6 == 4:\n",
    "            q4.append(q)\n",
    "            n4+=1\n",
    "        elif q_mod6 == 5:\n",
    "            q5.append(q)\n",
    "            n5+=1\n",
    "    q_catagorized = [q0, q1, q2, q3, q4, q5]\n",
    "    q_distribution = [n0/total, n1/total, n2/total, n3/total, n4/total, n5/total]\n",
    "    stat = pd.Series(q_distribution, index=[\"0 mod 6\", \"1 mod 6\", \"2 mod 6\", \"3 mod 6\", \"4 mod 6\", \"5 mod 6\"])\n",
    "    print(stat)\n",
    "    return q_catagorized, q_distribution"
   ]
  },
  {
   "cell_type": "code",
   "execution_count": 13,
   "metadata": {},
   "outputs": [
    {
     "name": "stdout",
     "output_type": "stream",
     "text": [
      "0 mod 6    0.000000\n",
      "1 mod 6    0.526316\n",
      "2 mod 6    0.000000\n",
      "3 mod 6    0.000000\n",
      "4 mod 6    0.000000\n",
      "5 mod 6    0.473684\n",
      "dtype: float64\n"
     ]
    }
   ],
   "source": [
    "q_catagorized, q_distribution = mod6distribution(q_list)"
   ]
  },
  {
   "cell_type": "code",
   "execution_count": 14,
   "metadata": {},
   "outputs": [
    {
     "name": "stdout",
     "output_type": "stream",
     "text": [
      "number of primes that is congruent to 1 mod 6:  20\n",
      "number of primes that is congruent to 5 mod 6:  18\n"
     ]
    }
   ],
   "source": [
    "print(\"number of primes that is congruent to 1 mod 6: \",len(q_catagorized[1]))\n",
    "print(\"number of primes that is congruent to 5 mod 6: \",len(q_catagorized[5]))"
   ]
  },
  {
   "cell_type": "code",
   "execution_count": 23,
   "metadata": {},
   "outputs": [],
   "source": [
    "def mod16distribution(q_list):\n",
    "    total = len(q_list)\n",
    "    n0, n1, n2, n3, n4, n5, n6, n7, n8, n9, n10, n11, n12, n13, n14, n15 = (0 for i in range(16))\n",
    "    q0, q1, q2, q3, q4, q5, q6, q7, q8, q9, q10, q11, q12, q13, q14, q15 = ([] for i in range(16))\n",
    "    for q in q_list:\n",
    "        q_mod8 = q%16\n",
    "        if q_mod8 == 0:\n",
    "            q0.append(q)\n",
    "            n0+=1\n",
    "        elif q_mod8 == 1:\n",
    "            q1.append(q)\n",
    "            n1+=1\n",
    "        elif q_mod8 == 2:\n",
    "            q2.append(q)\n",
    "            n2+=1\n",
    "        elif q_mod8 == 3:\n",
    "            q3.append(q)\n",
    "            n3+=1\n",
    "        elif q_mod8 == 4:\n",
    "            q4.append(q)\n",
    "            n4+=1\n",
    "        elif q_mod8 == 5:\n",
    "            q5.append(q)\n",
    "            n5+=1\n",
    "        elif q_mod8 == 6:\n",
    "            q6.append(q)\n",
    "            n6+=1\n",
    "        elif q_mod8 == 7:\n",
    "            q7.append(q)\n",
    "            n7+=1\n",
    "        elif q_mod8 == 8:\n",
    "            q8.append(q)\n",
    "            n8+=1\n",
    "        elif q_mod8 == 9:\n",
    "            q9.append(q)\n",
    "            n9+=1\n",
    "        elif q_mod8 == 10:\n",
    "            q10.append(q)\n",
    "            n10+=1\n",
    "        elif q_mod8 == 11:\n",
    "            q11.append(q)\n",
    "            n11+=1\n",
    "        elif q_mod8 == 12:\n",
    "            q12.append(q)\n",
    "            n12+=1\n",
    "        elif q_mod8 == 13:\n",
    "            q13.append(q)\n",
    "            n13+=1\n",
    "        elif q_mod8 == 14:\n",
    "            q14.append(q)\n",
    "            n14+=1\n",
    "        elif q_mod8 == 15:\n",
    "            q15.append(q)\n",
    "            n15+=1\n",
    "    q_catagorized = [q0, q1, q2, q3, q4, q5, q6, q7, q8, q9, q10, q11, q12, q13, q14, q15]\n",
    "    q_distribution = [n0/total, n1/total, n2/total, n3/total, n4/total, n5/total, n6/total, n7/total,\n",
    "                     n8/total, n9/total, n10/total, n11/total, n12/total, n13/total, n14/total, n15/total]\n",
    "    stat = pd.Series(q_distribution, index=[\"0 mod 16\", \"1 mod 16\", \"2 mod 16\", \"3 mod 16\", \"4 mod 16\", \"5 mod 16\", \"6 mod 16\", \"7 mod 16\", \n",
    "                                            \"8 mod 16\", \"9 mod 16\", \"10 mod 16\", \"11 mod 16\", \"12 mod 16\", \"13 mod 16\", \"14 mod 16\", \"15 mod 16\"])\n",
    "    print(stat)\n",
    "    return q_catagorized, q_distribution"
   ]
  },
  {
   "cell_type": "code",
   "execution_count": 18,
   "metadata": {},
   "outputs": [
    {
     "name": "stdout",
     "output_type": "stream",
     "text": [
      "0 mod 16     0.000000\n",
      "1 mod 16     0.000000\n",
      "2 mod 16     0.000000\n",
      "3 mod 16     0.210526\n",
      "4 mod 16     0.000000\n",
      "5 mod 16     0.000000\n",
      "6 mod 16     0.000000\n",
      "7 mod 16     0.263158\n",
      "8 mod 16     0.000000\n",
      "9 mod 16     0.000000\n",
      "10 mod 16    0.000000\n",
      "11 mod 16    0.289474\n",
      "12 mod 16    0.000000\n",
      "13 mod 16    0.000000\n",
      "14 mod 16    0.000000\n",
      "15 mod 16    0.236842\n",
      "dtype: float64\n"
     ]
    }
   ],
   "source": [
    "q_catagorized, q_distribution = mod16distribution(q_list)"
   ]
  },
  {
   "cell_type": "code",
   "execution_count": 20,
   "metadata": {},
   "outputs": [
    {
     "name": "stdout",
     "output_type": "stream",
     "text": [
      "0 mod 16     0.000000\n",
      "1 mod 16     0.000000\n",
      "2 mod 16     0.000000\n",
      "3 mod 16     0.270833\n",
      "4 mod 16     0.000000\n",
      "5 mod 16     0.000000\n",
      "6 mod 16     0.000000\n",
      "7 mod 16     0.291667\n",
      "8 mod 16     0.000000\n",
      "9 mod 16     0.000000\n",
      "10 mod 16    0.000000\n",
      "11 mod 16    0.229167\n",
      "12 mod 16    0.000000\n",
      "13 mod 16    0.000000\n",
      "14 mod 16    0.000000\n",
      "15 mod 16    0.208333\n",
      "dtype: float64\n"
     ]
    }
   ],
   "source": [
    "q_catagorized, q_distribution = mod16distribution(q_list2)"
   ]
  },
  {
   "cell_type": "code",
   "execution_count": 6,
   "metadata": {},
   "outputs": [
    {
     "data": {
      "text/plain": [
       "[3, 7, 11, 15]"
      ]
     },
     "execution_count": 6,
     "metadata": {},
     "output_type": "execute_result"
    }
   ],
   "source": [
    "modClasses(18)"
   ]
  },
  {
   "cell_type": "code",
   "execution_count": 22,
   "metadata": {},
   "outputs": [],
   "source": [
    "def mod18distribution(q_list):\n",
    "    total = len(q_list)\n",
    "    n0, n1, n2, n3, n4, n5, n6, n7, n8, n9, n10, n11, n12, n13, n14, n15, n16, n17 = (0 for i in range(18))\n",
    "    q0, q1, q2, q3, q4, q5, q6, q7, q8, q9, q10, q11, q12, q13, q14, q15, q16, q17 = ([] for i in range(18))\n",
    "    for q in q_list:\n",
    "        q_mod8 = q%18\n",
    "        if q_mod8 == 0:\n",
    "            q0.append(q)\n",
    "            n0+=1\n",
    "        elif q_mod8 == 1:\n",
    "            q1.append(q)\n",
    "            n1+=1\n",
    "        elif q_mod8 == 2:\n",
    "            q2.append(q)\n",
    "            n2+=1\n",
    "        elif q_mod8 == 3:\n",
    "            q3.append(q)\n",
    "            n3+=1\n",
    "        elif q_mod8 == 4:\n",
    "            q4.append(q)\n",
    "            n4+=1\n",
    "        elif q_mod8 == 5:\n",
    "            q5.append(q)\n",
    "            n5+=1\n",
    "        elif q_mod8 == 6:\n",
    "            q6.append(q)\n",
    "            n6+=1\n",
    "        elif q_mod8 == 7:\n",
    "            q7.append(q)\n",
    "            n7+=1\n",
    "        elif q_mod8 == 8:\n",
    "            q8.append(q)\n",
    "            n8+=1\n",
    "        elif q_mod8 == 9:\n",
    "            q9.append(q)\n",
    "            n9+=1\n",
    "        elif q_mod8 == 10:\n",
    "            q10.append(q)\n",
    "            n10+=1\n",
    "        elif q_mod8 == 11:\n",
    "            q11.append(q)\n",
    "            n11+=1\n",
    "        elif q_mod8 == 12:\n",
    "            q12.append(q)\n",
    "            n12+=1\n",
    "        elif q_mod8 == 13:\n",
    "            q13.append(q)\n",
    "            n13+=1\n",
    "        elif q_mod8 == 14:\n",
    "            q14.append(q)\n",
    "            n14+=1\n",
    "        elif q_mod8 == 15:\n",
    "            q15.append(q)\n",
    "            n15+=1\n",
    "        elif q_mod8 == 16:\n",
    "            q16.append(q)\n",
    "            n16+=1\n",
    "        elif q_mod8 == 17:\n",
    "            q17.append(q)\n",
    "            n17+=1\n",
    "    q_catagorized = [q0, q1, q2, q3, q4, q5, q6, q7, q8, q9, q10, q11, q12, q13, q14, q15, q16, q17]\n",
    "    q_distribution = [n0/total, n1/total, n2/total, n3/total, n4/total, n5/total, n6/total, n7/total,\n",
    "                     n8/total, n9/total, n10/total, n11/total, n12/total, n13/total, n14/total, n15/total\n",
    "                     , n16/total, n17/total]\n",
    "    stat = pd.Series(q_distribution, index=[\"0 mod 18\", \"1 mod 18\", \"2 mod 18\", \"3 mod 18\", \"4 mod 18\", \"5 mod 18\", \"6 mod 18\", \"7 mod 18\", \n",
    "                                            \"8 mod 18\", \"9 mod 18\", \"10 mod 18\", \"11 mod 18\", \"12 mod 18\", \"13 mod 18\", \"14 mod 18\", \"15 mod 18\"\n",
    "                                           , \"16 mod 18\", \"17 mod 18\"])\n",
    "    print(stat)\n",
    "    return q_catagorized, q_distribution"
   ]
  },
  {
   "cell_type": "code",
   "execution_count": 18,
   "metadata": {},
   "outputs": [
    {
     "name": "stdout",
     "output_type": "stream",
     "text": [
      "0 mod 18     0.000000\n",
      "1 mod 18     0.315789\n",
      "2 mod 18     0.000000\n",
      "3 mod 18     0.000000\n",
      "4 mod 18     0.000000\n",
      "5 mod 18     0.184211\n",
      "6 mod 18     0.000000\n",
      "7 mod 18     0.026316\n",
      "8 mod 18     0.000000\n",
      "9 mod 18     0.000000\n",
      "10 mod 18    0.000000\n",
      "11 mod 18    0.131579\n",
      "12 mod 18    0.000000\n",
      "13 mod 18    0.184211\n",
      "14 mod 18    0.000000\n",
      "15 mod 18    0.000000\n",
      "16 mod 18    0.000000\n",
      "17 mod 18    0.157895\n",
      "dtype: float64\n"
     ]
    }
   ],
   "source": [
    "q_catagorized, q_distribution = mod18distribution(q_list)"
   ]
  },
  {
   "cell_type": "code",
   "execution_count": 19,
   "metadata": {},
   "outputs": [
    {
     "name": "stdout",
     "output_type": "stream",
     "text": [
      "0 mod 18     0.000000\n",
      "1 mod 18     0.062500\n",
      "2 mod 18     0.000000\n",
      "3 mod 18     0.000000\n",
      "4 mod 18     0.000000\n",
      "5 mod 18     0.145833\n",
      "6 mod 18     0.000000\n",
      "7 mod 18     0.250000\n",
      "8 mod 18     0.000000\n",
      "9 mod 18     0.000000\n",
      "10 mod 18    0.000000\n",
      "11 mod 18    0.187500\n",
      "12 mod 18    0.000000\n",
      "13 mod 18    0.187500\n",
      "14 mod 18    0.000000\n",
      "15 mod 18    0.000000\n",
      "16 mod 18    0.000000\n",
      "17 mod 18    0.166667\n",
      "dtype: float64\n"
     ]
    }
   ],
   "source": [
    "q_catagorized, q_distribution = mod18distribution(q_list2)"
   ]
  },
  {
   "cell_type": "code",
   "execution_count": 28,
   "metadata": {},
   "outputs": [
    {
     "data": {
      "text/plain": [
       "[3, 7, 11, 15, 19, 23, 27, 31, 35, 39, 43, 47, 51, 55, 59, 63]"
      ]
     },
     "execution_count": 28,
     "metadata": {},
     "output_type": "execute_result"
    }
   ],
   "source": [
    "modClasses(64)"
   ]
  },
  {
   "cell_type": "code",
   "execution_count": 24,
   "metadata": {},
   "outputs": [],
   "source": [
    "def mod32distribution(q_list):\n",
    "    total = len(q_list)\n",
    "    n0, n1, n2, n3, n4, n5, n6, n7 = (0 for i in range(8))\n",
    "    q0, q1, q2, q3, q4, q5, q6, q7 = ([] for i in range(8))\n",
    "    for q in q_list:\n",
    "        q_mod8 = q%32\n",
    "        if q_mod8 == 3:\n",
    "            q0.append(q)\n",
    "            n0+=1\n",
    "        elif q_mod8 == 7:\n",
    "            q1.append(q)\n",
    "            n1+=1\n",
    "        elif q_mod8 == 11:\n",
    "            q2.append(q)\n",
    "            n2+=1\n",
    "        elif q_mod8 == 15:\n",
    "            q3.append(q)\n",
    "            n3+=1\n",
    "        elif q_mod8 == 19:\n",
    "            q4.append(q)\n",
    "            n4+=1\n",
    "        elif q_mod8 == 23:\n",
    "            q5.append(q)\n",
    "            n5+=1\n",
    "        elif q_mod8 == 27:\n",
    "            q6.append(q)\n",
    "            n6+=1\n",
    "        elif q_mod8 == 31:\n",
    "            q7.append(q)\n",
    "            n7+=1\n",
    "    q_catagorized = [q0, q1, q2, q3, q4, q5, q6, q7]\n",
    "    q_distribution = [n0/total, n1/total, n2/total, n3/total, n4/total, n5/total, n6/total, n7/total]\n",
    "    stat = pd.Series(q_distribution, index=[\"3 mod 32\", \"7 mod 32\", \"11 mod 32\", \"15 mod 32\", \"19 mod 32\", \"23 mod 32\", \"27 mod 32\", \"31 mod 32\"])\n",
    "    print(stat)\n",
    "    return q_catagorized, q_distribution"
   ]
  },
  {
   "cell_type": "code",
   "execution_count": 25,
   "metadata": {},
   "outputs": [
    {
     "name": "stdout",
     "output_type": "stream",
     "text": [
      "3 mod 32     0.105263\n",
      "7 mod 32     0.131579\n",
      "11 mod 32    0.131579\n",
      "15 mod 32    0.157895\n",
      "19 mod 32    0.105263\n",
      "23 mod 32    0.131579\n",
      "27 mod 32    0.157895\n",
      "31 mod 32    0.078947\n",
      "dtype: float64\n"
     ]
    }
   ],
   "source": [
    "q_catagorized, q_distribution = mod32distribution(q_list)"
   ]
  },
  {
   "cell_type": "code",
   "execution_count": 26,
   "metadata": {},
   "outputs": [
    {
     "name": "stdout",
     "output_type": "stream",
     "text": [
      "3 mod 32     0.083333\n",
      "7 mod 32     0.145833\n",
      "11 mod 32    0.166667\n",
      "15 mod 32    0.083333\n",
      "19 mod 32    0.187500\n",
      "23 mod 32    0.145833\n",
      "27 mod 32    0.062500\n",
      "31 mod 32    0.125000\n",
      "dtype: float64\n"
     ]
    }
   ],
   "source": [
    "q_catagorized, q_distribution = mod32distribution(q_list2)"
   ]
  },
  {
   "cell_type": "code",
   "execution_count": 31,
   "metadata": {},
   "outputs": [
    {
     "data": {
      "text/plain": [
       "[3, 7, 11, 15, 19, 23, 27, 31, 35, 39, 43, 47, 51, 55, 59, 63]"
      ]
     },
     "execution_count": 31,
     "metadata": {},
     "output_type": "execute_result"
    }
   ],
   "source": [
    "modClasses(64)"
   ]
  },
  {
   "cell_type": "code",
   "execution_count": 32,
   "metadata": {},
   "outputs": [],
   "source": [
    "def mod64distribution(q_list):\n",
    "    total = len(q_list)\n",
    "    n0, n1, n2, n3, n4, n5, n6, n7, n8, n9, n10, n11, n12, n13, n14, n15 = (0 for i in range(16))\n",
    "    q0, q1, q2, q3, q4, q5, q6, q7, q8, q9, q10, q11, q12, q13, q14, q15 = ([] for i in range(16))\n",
    "    for q in q_list:\n",
    "        q_mod8 = q%64\n",
    "        if q_mod8 == 3:\n",
    "            q0.append(q)\n",
    "            n0+=1\n",
    "        elif q_mod8 == 7:\n",
    "            q1.append(q)\n",
    "            n1+=1\n",
    "        elif q_mod8 == 11:\n",
    "            q2.append(q)\n",
    "            n2+=1\n",
    "        elif q_mod8 == 15:\n",
    "            q3.append(q)\n",
    "            n3+=1\n",
    "        elif q_mod8 == 19:\n",
    "            q4.append(q)\n",
    "            n4+=1\n",
    "        elif q_mod8 == 23:\n",
    "            q5.append(q)\n",
    "            n5+=1\n",
    "        elif q_mod8 == 27:\n",
    "            q6.append(q)\n",
    "            n6+=1\n",
    "        elif q_mod8 == 31:\n",
    "            q7.append(q)\n",
    "            n7+=1\n",
    "        elif q_mod8 == 35:\n",
    "            q8.append(q)\n",
    "            n8+=1\n",
    "        elif q_mod8 == 39:\n",
    "            q9.append(q)\n",
    "            n9+=1\n",
    "        elif q_mod8 == 43:\n",
    "            q10.append(q)\n",
    "            n10+=1\n",
    "        elif q_mod8 == 47:\n",
    "            q11.append(q)\n",
    "            n11+=1\n",
    "        elif q_mod8 == 51:\n",
    "            q12.append(q)\n",
    "            n12+=1\n",
    "        elif q_mod8 == 55:\n",
    "            q13.append(q)\n",
    "            n13+=1\n",
    "        elif q_mod8 == 59:\n",
    "            q14.append(q)\n",
    "            n14+=1\n",
    "        elif q_mod8 == 63:\n",
    "            q15.append(q)\n",
    "            n15+=1\n",
    "    q_catagorized = [q0, q1, q2, q3, q4, q5, q6, q7, q8, q9, q10, q11, q12, q13, q14, q15]\n",
    "    q_distribution = [n0/total, n1/total, n2/total, n3/total, n4/total, n5/total, n6/total, n7/total,\n",
    "                     n8/total, n9/total, n10/total, n11/total, n12/total, n13/total, n14/total, n15/total]\n",
    "    stat = pd.Series(q_distribution, index=[\"0 mod 16\", \"1 mod 16\", \"2 mod 16\", \"3 mod 16\", \"4 mod 16\", \"5 mod 16\", \"6 mod 16\", \"7 mod 16\", \n",
    "                                            \"8 mod 16\", \"9 mod 16\", \"10 mod 16\", \"11 mod 16\", \"12 mod 16\", \"13 mod 16\", \"14 mod 16\", \"15 mod 16\"])\n",
    "    print(stat)\n",
    "    return q_catagorized, q_distribution"
   ]
  },
  {
   "cell_type": "code",
   "execution_count": 33,
   "metadata": {},
   "outputs": [
    {
     "name": "stdout",
     "output_type": "stream",
     "text": [
      "0 mod 16     0.052632\n",
      "1 mod 16     0.078947\n",
      "2 mod 16     0.052632\n",
      "3 mod 16     0.078947\n",
      "4 mod 16     0.026316\n",
      "5 mod 16     0.078947\n",
      "6 mod 16     0.026316\n",
      "7 mod 16     0.026316\n",
      "8 mod 16     0.052632\n",
      "9 mod 16     0.052632\n",
      "10 mod 16    0.078947\n",
      "11 mod 16    0.078947\n",
      "12 mod 16    0.078947\n",
      "13 mod 16    0.052632\n",
      "14 mod 16    0.131579\n",
      "15 mod 16    0.052632\n",
      "dtype: float64\n"
     ]
    }
   ],
   "source": [
    "q_catagorized, q_distribution = mod64distribution(q_list)"
   ]
  },
  {
   "cell_type": "code",
   "execution_count": 34,
   "metadata": {},
   "outputs": [
    {
     "name": "stdout",
     "output_type": "stream",
     "text": [
      "0 mod 16     0.020833\n",
      "1 mod 16     0.083333\n",
      "2 mod 16     0.104167\n",
      "3 mod 16     0.041667\n",
      "4 mod 16     0.104167\n",
      "5 mod 16     0.062500\n",
      "6 mod 16     0.041667\n",
      "7 mod 16     0.104167\n",
      "8 mod 16     0.062500\n",
      "9 mod 16     0.062500\n",
      "10 mod 16    0.062500\n",
      "11 mod 16    0.041667\n",
      "12 mod 16    0.083333\n",
      "13 mod 16    0.083333\n",
      "14 mod 16    0.020833\n",
      "15 mod 16    0.020833\n",
      "dtype: float64\n"
     ]
    }
   ],
   "source": [
    "q_catagorized, q_distribution = mod64distribution(q_list2)"
   ]
  },
  {
   "cell_type": "code",
   "execution_count": 37,
   "metadata": {},
   "outputs": [],
   "source": [
    "def mod20distribution(q_list):\n",
    "    total = len(q_list)\n",
    "    n0, n1, n2, n3, n4, n5, n6, n7, n8, n9 = (0 for i in range(10))\n",
    "    q0, q1, q2, q3, q4, q5, q6, q7, q8, q9 = ([] for i in range(10))\n",
    "    for q in q_list:\n",
    "        q_mod8 = q%20\n",
    "        if q_mod8 == 1:\n",
    "            q0.append(q)\n",
    "            n0+=1\n",
    "        elif q_mod8 == 3:\n",
    "            q1.append(q)\n",
    "            n1+=1\n",
    "        elif q_mod8 == 5:\n",
    "            q2.append(q)\n",
    "            n2+=1\n",
    "        elif q_mod8 == 7:\n",
    "            q3.append(q)\n",
    "            n3+=1\n",
    "        elif q_mod8 == 9:\n",
    "            q4.append(q)\n",
    "            n4+=1\n",
    "        elif q_mod8 == 11:\n",
    "            q5.append(q)\n",
    "            n5+=1\n",
    "        elif q_mod8 == 13:\n",
    "            q6.append(q)\n",
    "            n6+=1\n",
    "        elif q_mod8 == 15:\n",
    "            q7.append(q)\n",
    "            n7+=1\n",
    "        elif q_mod8 == 17:\n",
    "            q8.append(q)\n",
    "            n8+=1\n",
    "        elif q_mod8 == 19:\n",
    "            q9.append(q)\n",
    "            n9+=1\n",
    "    q_catagorized = [q0, q1, q2, q3, q4, q5, q6, q7, q8, q9]\n",
    "    q_distribution = [n0/total, n1/total, n2/total, n3/total, n4/total, n5/total, n6/total, n7/total,\n",
    "                     n8/total, n9/total]\n",
    "    stat = pd.Series(q_distribution, index=[\"0 mod 18\", \"1 mod 18\", \"2 mod 18\", \"3 mod 18\", \"4 mod 18\", \"5 mod 18\", \"6 mod 18\", \"7 mod 18\", \n",
    "                                            \"8 mod 18\", \"9 mod 18\"])\n",
    "    print(stat)\n",
    "    return q_catagorized, q_distribution"
   ]
  },
  {
   "cell_type": "code",
   "execution_count": 38,
   "metadata": {},
   "outputs": [
    {
     "name": "stdout",
     "output_type": "stream",
     "text": [
      "0 mod 18    0.000000\n",
      "1 mod 18    0.157895\n",
      "2 mod 18    0.000000\n",
      "3 mod 18    0.184211\n",
      "4 mod 18    0.000000\n",
      "5 mod 18    0.394737\n",
      "6 mod 18    0.000000\n",
      "7 mod 18    0.000000\n",
      "8 mod 18    0.000000\n",
      "9 mod 18    0.263158\n",
      "dtype: float64\n"
     ]
    }
   ],
   "source": [
    "q_catagorized, q_distribution = mod20distribution(q_list)"
   ]
  },
  {
   "cell_type": "code",
   "execution_count": 40,
   "metadata": {},
   "outputs": [
    {
     "name": "stdout",
     "output_type": "stream",
     "text": [
      "0 mod 18    0.000000\n",
      "1 mod 18    0.312500\n",
      "2 mod 18    0.000000\n",
      "3 mod 18    0.333333\n",
      "4 mod 18    0.000000\n",
      "5 mod 18    0.125000\n",
      "6 mod 18    0.000000\n",
      "7 mod 18    0.000000\n",
      "8 mod 18    0.000000\n",
      "9 mod 18    0.229167\n",
      "dtype: float64\n"
     ]
    }
   ],
   "source": [
    "q_catagorized, q_distribution = mod20distribution(q_list2)"
   ]
  },
  {
   "cell_type": "code",
   "execution_count": 41,
   "metadata": {},
   "outputs": [],
   "source": [
    "def mod22distribution(q_list):\n",
    "    total = len(q_list)\n",
    "    n0, n1, n2, n3, n4, n5, n6, n7, n8, n9, n10 = (0 for i in range(11))\n",
    "    q0, q1, q2, q3, q4, q5, q6, q7, q8, q9, q10 = ([] for i in range(11))\n",
    "    for q in q_list:\n",
    "        q_mod8 = q%22\n",
    "        if q_mod8 == 1:\n",
    "            q0.append(q)\n",
    "            n0+=1\n",
    "        elif q_mod8 == 3:\n",
    "            q1.append(q)\n",
    "            n1+=1\n",
    "        elif q_mod8 == 5:\n",
    "            q2.append(q)\n",
    "            n2+=1\n",
    "        elif q_mod8 == 7:\n",
    "            q3.append(q)\n",
    "            n3+=1\n",
    "        elif q_mod8 == 9:\n",
    "            q4.append(q)\n",
    "            n4+=1\n",
    "        elif q_mod8 == 11:\n",
    "            q5.append(q)\n",
    "            n5+=1\n",
    "        elif q_mod8 == 13:\n",
    "            q6.append(q)\n",
    "            n6+=1\n",
    "        elif q_mod8 == 15:\n",
    "            q7.append(q)\n",
    "            n7+=1\n",
    "        elif q_mod8 == 17:\n",
    "            q8.append(q)\n",
    "            n8+=1\n",
    "        elif q_mod8 == 19:\n",
    "            q9.append(q)\n",
    "            n9+=1\n",
    "        elif q_mod8 == 21:\n",
    "            q10.append(q)\n",
    "            n10+=1\n",
    "    q_catagorized = [q0, q1, q2, q3, q4, q5, q6, q7, q8, q9, q10]\n",
    "    q_distribution = [n0/total, n1/total, n2/total, n3/total, n4/total, n5/total, n6/total, n7/total,\n",
    "                     n8/total, n9/total, n10/total]\n",
    "    stat = pd.Series(q_distribution, index=[\"0 mod 18\", \"1 mod 18\", \"2 mod 18\", \"3 mod 18\", \"4 mod 18\", \"5 mod 18\", \"6 mod 18\", \"7 mod 18\", \n",
    "                                            \"8 mod 18\", \"9 mod 18\", \"10 mod 18\"])\n",
    "    print(stat)\n",
    "    return q_catagorized, q_distribution"
   ]
  },
  {
   "cell_type": "code",
   "execution_count": 42,
   "metadata": {},
   "outputs": [
    {
     "name": "stdout",
     "output_type": "stream",
     "text": [
      "0 mod 18     0.210526\n",
      "1 mod 18     0.157895\n",
      "2 mod 18     0.105263\n",
      "3 mod 18     0.078947\n",
      "4 mod 18     0.052632\n",
      "5 mod 18     0.000000\n",
      "6 mod 18     0.078947\n",
      "7 mod 18     0.052632\n",
      "8 mod 18     0.078947\n",
      "9 mod 18     0.052632\n",
      "10 mod 18    0.131579\n",
      "dtype: float64\n"
     ]
    }
   ],
   "source": [
    "q_catagorized, q_distribution = mod22distribution(q_list)"
   ]
  },
  {
   "cell_type": "code",
   "execution_count": 43,
   "metadata": {},
   "outputs": [
    {
     "name": "stdout",
     "output_type": "stream",
     "text": [
      "0 mod 18     0.062500\n",
      "1 mod 18     0.104167\n",
      "2 mod 18     0.062500\n",
      "3 mod 18     0.083333\n",
      "4 mod 18     0.125000\n",
      "5 mod 18     0.020833\n",
      "6 mod 18     0.104167\n",
      "7 mod 18     0.145833\n",
      "8 mod 18     0.104167\n",
      "9 mod 18     0.125000\n",
      "10 mod 18    0.062500\n",
      "dtype: float64\n"
     ]
    }
   ],
   "source": [
    "q_catagorized, q_distribution = mod22distribution(q_list2)"
   ]
  },
  {
   "cell_type": "code",
   "execution_count": 44,
   "metadata": {},
   "outputs": [],
   "source": [
    "def mod11distribution(q_list):\n",
    "    total = len(q_list)\n",
    "    n0, n1, n2, n3, n4, n5, n6, n7, n8, n9, n10 = (0 for i in range(11))\n",
    "    q0, q1, q2, q3, q4, q5, q6, q7, q8, q9, q10 = ([] for i in range(11))\n",
    "    for q in q_list:\n",
    "        q_mod8 = q%11\n",
    "        if q_mod8 == 0:\n",
    "            q0.append(q)\n",
    "            n0+=1\n",
    "        elif q_mod8 == 1:\n",
    "            q1.append(q)\n",
    "            n1+=1\n",
    "        elif q_mod8 == 2:\n",
    "            q2.append(q)\n",
    "            n2+=1\n",
    "        elif q_mod8 == 3:\n",
    "            q3.append(q)\n",
    "            n3+=1\n",
    "        elif q_mod8 == 4:\n",
    "            q4.append(q)\n",
    "            n4+=1\n",
    "        elif q_mod8 == 5:\n",
    "            q5.append(q)\n",
    "            n5+=1\n",
    "        elif q_mod8 == 6:\n",
    "            q6.append(q)\n",
    "            n6+=1\n",
    "        elif q_mod8 == 7:\n",
    "            q7.append(q)\n",
    "            n7+=1\n",
    "        elif q_mod8 == 8:\n",
    "            q8.append(q)\n",
    "            n8+=1\n",
    "        elif q_mod8 == 9:\n",
    "            q9.append(q)\n",
    "            n9+=1\n",
    "        elif q_mod8 == 10:\n",
    "            q10.append(q)\n",
    "            n10+=1\n",
    "    q_catagorized = [q0, q1, q2, q3, q4, q5, q6, q7, q8, q9, q10]\n",
    "    q_distribution = [n0/total, n1/total, n2/total, n3/total, n4/total, n5/total, n6/total, n7/total,\n",
    "                     n8/total, n9/total, n10/total]\n",
    "    stat = pd.Series(q_distribution, index=[\"0 mod 18\", \"1 mod 18\", \"2 mod 18\", \"3 mod 18\", \"4 mod 18\", \"5 mod 18\", \"6 mod 18\", \"7 mod 18\", \n",
    "                                            \"8 mod 18\", \"9 mod 18\", \"10 mod 18\"])\n",
    "    print(stat)\n",
    "    return q_catagorized, q_distribution"
   ]
  },
  {
   "cell_type": "code",
   "execution_count": 45,
   "metadata": {},
   "outputs": [
    {
     "name": "stdout",
     "output_type": "stream",
     "text": [
      "0 mod 18     0.000000\n",
      "1 mod 18     0.210526\n",
      "2 mod 18     0.078947\n",
      "3 mod 18     0.157895\n",
      "4 mod 18     0.052632\n",
      "5 mod 18     0.105263\n",
      "6 mod 18     0.078947\n",
      "7 mod 18     0.078947\n",
      "8 mod 18     0.052632\n",
      "9 mod 18     0.052632\n",
      "10 mod 18    0.131579\n",
      "dtype: float64\n"
     ]
    }
   ],
   "source": [
    "q_catagorized, q_distribution = mod11distribution(q_list)"
   ]
  },
  {
   "cell_type": "code",
   "execution_count": 46,
   "metadata": {},
   "outputs": [
    {
     "name": "stdout",
     "output_type": "stream",
     "text": [
      "0 mod 18     0.020833\n",
      "1 mod 18     0.062500\n",
      "2 mod 18     0.104167\n",
      "3 mod 18     0.104167\n",
      "4 mod 18     0.145833\n",
      "5 mod 18     0.062500\n",
      "6 mod 18     0.104167\n",
      "7 mod 18     0.083333\n",
      "8 mod 18     0.125000\n",
      "9 mod 18     0.125000\n",
      "10 mod 18    0.062500\n",
      "dtype: float64\n"
     ]
    }
   ],
   "source": [
    "q_catagorized, q_distribution = mod11distribution(q_list2)"
   ]
  },
  {
   "cell_type": "code",
   "execution_count": 51,
   "metadata": {},
   "outputs": [],
   "source": [
    "def mod24distribution(q_list):\n",
    "    total = len(q_list)\n",
    "    n0, n1, n2, n3, n4, n5, n6, n7, n8, n9, n10, n11 = (0 for i in range(12))\n",
    "    q0, q1, q2, q3, q4, q5, q6, q7, q8, q9, q10, q11 = ([] for i in range(12))\n",
    "    for q in q_list:\n",
    "        q_mod8 = q%24\n",
    "        if q_mod8 == 1:\n",
    "            q0.append(q)\n",
    "            n0+=1\n",
    "        elif q_mod8 == 3:\n",
    "            q1.append(q)\n",
    "            n1+=1\n",
    "        elif q_mod8 == 5:\n",
    "            q2.append(q)\n",
    "            n2+=1\n",
    "        elif q_mod8 == 7:\n",
    "            q3.append(q)\n",
    "            n3+=1\n",
    "        elif q_mod8 == 9:\n",
    "            q4.append(q)\n",
    "            n4+=1\n",
    "        elif q_mod8 == 11:\n",
    "            q5.append(q)\n",
    "            n5+=1\n",
    "        elif q_mod8 == 13:\n",
    "            q6.append(q)\n",
    "            n6+=1\n",
    "        elif q_mod8 == 15:\n",
    "            q7.append(q)\n",
    "            n7+=1\n",
    "        elif q_mod8 == 17:\n",
    "            q8.append(q)\n",
    "            n8+=1\n",
    "        elif q_mod8 == 19:\n",
    "            q9.append(q)\n",
    "            n9+=1\n",
    "        elif q_mod8 == 21:\n",
    "            q10.append(q)\n",
    "            n10+=1\n",
    "        elif q_mod8 == 23:\n",
    "            n11+=1\n",
    "    q_catagorized = [q0, q1, q2, q3, q4, q5, q6, q7, q8, q9, q10, q11]\n",
    "    q_distribution = [n0/total, n1/total, n2/total, n3/total, n4/total, n5/total, n6/total, n7/total,\n",
    "                     n8/total, n9/total, n10/total, n11/total]\n",
    "    stat = pd.Series(q_distribution, index=[\"0 mod 18\", \"1 mod 18\", \"2 mod 18\", \"3 mod 18\", \"4 mod 18\", \"5 mod 18\", \"6 mod 18\", \"7 mod 18\", \n",
    "                                            \"8 mod 18\", \"9 mod 18\", \"10 mod 18\", \"11 mod 18\"])\n",
    "    print(stat)\n",
    "    return q_catagorized, q_distribution"
   ]
  },
  {
   "cell_type": "code",
   "execution_count": 52,
   "metadata": {},
   "outputs": [
    {
     "name": "stdout",
     "output_type": "stream",
     "text": [
      "0 mod 18     0.000000\n",
      "1 mod 18     0.000000\n",
      "2 mod 18     0.000000\n",
      "3 mod 18     0.289474\n",
      "4 mod 18     0.000000\n",
      "5 mod 18     0.263158\n",
      "6 mod 18     0.000000\n",
      "7 mod 18     0.000000\n",
      "8 mod 18     0.000000\n",
      "9 mod 18     0.236842\n",
      "10 mod 18    0.000000\n",
      "11 mod 18    0.210526\n",
      "dtype: float64\n"
     ]
    }
   ],
   "source": [
    "q_catagorized, q_distribution = mod24distribution(q_list)"
   ]
  },
  {
   "cell_type": "code",
   "execution_count": 53,
   "metadata": {},
   "outputs": [
    {
     "name": "stdout",
     "output_type": "stream",
     "text": [
      "0 mod 18     0.000000\n",
      "1 mod 18     0.000000\n",
      "2 mod 18     0.000000\n",
      "3 mod 18     0.208333\n",
      "4 mod 18     0.000000\n",
      "5 mod 18     0.208333\n",
      "6 mod 18     0.000000\n",
      "7 mod 18     0.000000\n",
      "8 mod 18     0.000000\n",
      "9 mod 18     0.291667\n",
      "10 mod 18    0.000000\n",
      "11 mod 18    0.291667\n",
      "dtype: float64\n"
     ]
    }
   ],
   "source": [
    "q_catagorized, q_distribution = mod24distribution(q_list2)"
   ]
  },
  {
   "cell_type": "code",
   "execution_count": 119,
   "metadata": {},
   "outputs": [],
   "source": [
    "def mod26distribution(q_list):\n",
    "    total = len(q_list)\n",
    "    n0, n1, n2, n3, n4, n5, n6, n7, n8, n9, n10, n11, n12 = (0 for i in range(13))\n",
    "    q0, q1, q2, q3, q4, q5, q6, q7, q8, q9, q10, q11, q12 = ([] for i in range(13))\n",
    "    for q in q_list:\n",
    "        q_mod8 = q%26\n",
    "        if q_mod8 == 1:\n",
    "            q0.append(q)\n",
    "            n0+=1\n",
    "        elif q_mod8 == 3:\n",
    "            q1.append(q)\n",
    "            n1+=1\n",
    "        elif q_mod8 == 5:\n",
    "            q2.append(q)\n",
    "            n2+=1\n",
    "        elif q_mod8 == 7:\n",
    "            q3.append(q)\n",
    "            n3+=1\n",
    "        elif q_mod8 == 9:\n",
    "            q4.append(q)\n",
    "            n4+=1\n",
    "        elif q_mod8 == 11:\n",
    "            q5.append(q)\n",
    "            n5+=1\n",
    "        elif q_mod8 == 13:\n",
    "            q6.append(q)\n",
    "            n6+=1\n",
    "        elif q_mod8 == 15:\n",
    "            q7.append(q)\n",
    "            n7+=1\n",
    "        elif q_mod8 == 17:\n",
    "            q8.append(q)\n",
    "            n8+=1\n",
    "        elif q_mod8 == 19:\n",
    "            q9.append(q)\n",
    "            n9+=1\n",
    "        elif q_mod8 == 21:\n",
    "            q10.append(q)\n",
    "            n10+=1\n",
    "        elif q_mod8 == 23:\n",
    "            n11+=1\n",
    "        elif q_mod8 == 25:\n",
    "            n12+=1\n",
    "    q_catagorized = [q0, q1, q2, q3, q4, q5, q6, q7, q8, q9, q10, q11, q12]\n",
    "    q_distribution = [n0/total, n1/total, n2/total, n3/total, n4/total, n5/total, n6/total, n7/total,\n",
    "                     n8/total, n9/total, n10/total, n11/total, n12/total]\n",
    "    stat = pd.Series(q_distribution, index=[\"0 mod 26\", \"1 mod 26\", \"2 mod 26\", \"3 mod 26\", \"4 mod 26\", \"5 mod 26\", \"6 mod 26\", \"7 mod 26\", \n",
    "                                            \"8 mod 26\", \"9 mod 26\", \"10 mod 26\", \"11 mod 26\", \"12 mod 26\"])\n",
    "    print(stat)\n",
    "    return q_catagorized, q_distribution"
   ]
  },
  {
   "cell_type": "code",
   "execution_count": 120,
   "metadata": {},
   "outputs": [
    {
     "name": "stdout",
     "output_type": "stream",
     "text": [
      "0 mod 26     0.131579\n",
      "1 mod 26     0.052632\n",
      "2 mod 26     0.078947\n",
      "3 mod 26     0.052632\n",
      "4 mod 26     0.131579\n",
      "5 mod 26     0.078947\n",
      "6 mod 26     0.000000\n",
      "7 mod 26     0.078947\n",
      "8 mod 26     0.052632\n",
      "9 mod 26     0.078947\n",
      "10 mod 26    0.078947\n",
      "11 mod 26    0.078947\n",
      "12 mod 26    0.105263\n",
      "dtype: float64\n"
     ]
    }
   ],
   "source": [
    "q_catagorized, q_distribution = mod26distribution(q_list)"
   ]
  },
  {
   "cell_type": "code",
   "execution_count": 121,
   "metadata": {},
   "outputs": [
    {
     "name": "stdout",
     "output_type": "stream",
     "text": [
      "0 mod 26     0.041667\n",
      "1 mod 26     0.125000\n",
      "2 mod 26     0.083333\n",
      "3 mod 26     0.104167\n",
      "4 mod 26     0.062500\n",
      "5 mod 26     0.062500\n",
      "6 mod 26     0.000000\n",
      "7 mod 26     0.083333\n",
      "8 mod 26     0.083333\n",
      "9 mod 26     0.083333\n",
      "10 mod 26    0.104167\n",
      "11 mod 26    0.125000\n",
      "12 mod 26    0.041667\n",
      "dtype: float64\n"
     ]
    }
   ],
   "source": [
    "q_catagorized, q_distribution = mod26distribution(q_list2)"
   ]
  },
  {
   "cell_type": "code",
   "execution_count": 64,
   "metadata": {},
   "outputs": [],
   "source": [
    "def mod27distribution(q_list):\n",
    "    total = len(q_list)\n",
    "    n0, n1, n2, n3, n4, n5, n6, n7, n8, n9, n10, n11, n12, n13, n14, n15, n16, n17, n18, n19, n20, n21, n22, n23, n24, n25, n26 = (0 for i in range(27))\n",
    "    q0, q1, q2, q3, q4, q5, q6, q7, q8, q9, q10, q11, q12, q13, q14, q15, q16, q17, q18, q19, q20, q21, q22, q23, q24, q25, q26 = ([] for i in range(27))\n",
    "    for q in q_list:\n",
    "        q_mod8 = q%27\n",
    "        if q_mod8 == 1:\n",
    "            q0.append(q)\n",
    "            n0+=1\n",
    "        elif q_mod8 == 3:\n",
    "            q1.append(q)\n",
    "            n1+=1\n",
    "        elif q_mod8 == 5:\n",
    "            q2.append(q)\n",
    "            n2+=1\n",
    "        elif q_mod8 == 7:\n",
    "            q3.append(q)\n",
    "            n3+=1\n",
    "        elif q_mod8 == 9:\n",
    "            q4.append(q)\n",
    "            n4+=1\n",
    "        elif q_mod8 == 11:\n",
    "            q5.append(q)\n",
    "            n5+=1\n",
    "        elif q_mod8 == 13:\n",
    "            q6.append(q)\n",
    "            n6+=1\n",
    "        elif q_mod8 == 15:\n",
    "            q7.append(q)\n",
    "            n7+=1\n",
    "        elif q_mod8 == 17:\n",
    "            q8.append(q)\n",
    "            n8+=1\n",
    "        elif q_mod8 == 19:\n",
    "            q9.append(q)\n",
    "            n9+=1\n",
    "        elif q_mod8 == 21:\n",
    "            q10.append(q)\n",
    "            n10+=1\n",
    "        elif q_mod8 == 23:\n",
    "            n11+=1\n",
    "        elif q_mod8 == 25:\n",
    "            n12+=1\n",
    "        elif q_mod8 == 0:\n",
    "            n13+=1\n",
    "        elif q_mod8 == 2:\n",
    "            q14.append(q)\n",
    "            n14+=1\n",
    "        elif q_mod8 == 4:\n",
    "            q15.append(q)\n",
    "            n15+=1\n",
    "        elif q_mod8 == 6:\n",
    "            q16.append(q)\n",
    "            n16+=1\n",
    "        elif q_mod8 == 8:\n",
    "            q17.append(q)\n",
    "            n17+=1\n",
    "        elif q_mod8 == 10:\n",
    "            q18.append(q)\n",
    "            n18+=1\n",
    "        elif q_mod8 == 12:\n",
    "            q19.append(q)\n",
    "            n19+=1\n",
    "        elif q_mod8 == 14:\n",
    "            q20.append(q)\n",
    "            n20+=1\n",
    "        elif q_mod8 == 16:\n",
    "            q21.append(q)\n",
    "            n21+=1\n",
    "        elif q_mod8 == 18:\n",
    "            q22.append(q)\n",
    "            n22+=1\n",
    "        elif q_mod8 == 20:\n",
    "            q23.append(q)\n",
    "            n23+=1\n",
    "        elif q_mod8 == 22:\n",
    "            n24+=1\n",
    "        elif q_mod8 == 24:\n",
    "            n25+=1\n",
    "        elif q_mod8 == 26:\n",
    "            n26+=1\n",
    "    q_catagorized = [q0, q1, q2, q3, q4, q5, q6, q7, q8, q9, q10, q11, q12, q13, q14, q15, q16, q17, q18, q19, q20, q21, q22, q23, q24, q25, q26]\n",
    "    q_distribution = [n13/total, n0/total, n14/total, n1/total, n15/total, n2/total, n16/total, n3/total, n17/total, \n",
    "                      n4/total, n18/total, n5/total, n19/total, n6/total, n20/total, n7/total, n21/total, n8/total, \n",
    "                      n22/total, n9/total, n23/total, n10/total, n24/total, n11/total, n25/total, n12/total, n26/total]\n",
    "    stat = pd.Series(q_distribution, index=[\"0 mod 27\", \"1 mod 27\", \"2 mod 27\", \"3 mod 27\", \"4 mod 27\", \"5 mod 27\", \"6 mod 27\", \"7 mod 27\", \n",
    "                                            \"8 mod 27\", \"9 mod 27\", \"10 mod 27\", \"11 mod 27\", \"12 mod 27\", \"13 mod 27\", \"14 mod 27\", \"15 mod 27\"\n",
    "                                           , \"16 mod 27\", \"17 mod 27\", \"18 mod 27\", \"19 mod 27\", \"20 mod 27\", \"21 mod 27\", \"22 mod 27\", \"23 mod 27\"\n",
    "                                           , \"24 mod 27\", \"25 mod 27\", \"26 mod 27\"])\n",
    "    print(stat)\n",
    "    return q_catagorized, q_distribution"
   ]
  },
  {
   "cell_type": "code",
   "execution_count": 73,
   "metadata": {},
   "outputs": [
    {
     "name": "stdout",
     "output_type": "stream",
     "text": [
      "0 mod 27     0.000000\n",
      "1 mod 27     0.131579\n",
      "2 mod 27     0.052632\n",
      "3 mod 27     0.000000\n",
      "4 mod 27     0.078947\n",
      "5 mod 27     0.052632\n",
      "6 mod 27     0.000000\n",
      "7 mod 27     0.000000\n",
      "8 mod 27     0.052632\n",
      "9 mod 27     0.000000\n",
      "10 mod 27    0.105263\n",
      "11 mod 27    0.052632\n",
      "12 mod 27    0.000000\n",
      "13 mod 27    0.000000\n",
      "14 mod 27    0.078947\n",
      "15 mod 27    0.000000\n",
      "16 mod 27    0.000000\n",
      "17 mod 27    0.052632\n",
      "18 mod 27    0.000000\n",
      "19 mod 27    0.078947\n",
      "20 mod 27    0.026316\n",
      "21 mod 27    0.000000\n",
      "22 mod 27    0.105263\n",
      "23 mod 27    0.052632\n",
      "24 mod 27    0.000000\n",
      "25 mod 27    0.026316\n",
      "26 mod 27    0.052632\n",
      "dtype: float64\n"
     ]
    }
   ],
   "source": [
    "q_catagorized, q_distribution = mod27distribution(q_list)"
   ]
  },
  {
   "cell_type": "code",
   "execution_count": 74,
   "metadata": {},
   "outputs": [
    {
     "name": "stdout",
     "output_type": "stream",
     "text": [
      "0 mod 27     0.000000\n",
      "1 mod 27     0.020833\n",
      "2 mod 27     0.041667\n",
      "3 mod 27     0.000000\n",
      "4 mod 27     0.041667\n",
      "5 mod 27     0.062500\n",
      "6 mod 27     0.000000\n",
      "7 mod 27     0.104167\n",
      "8 mod 27     0.041667\n",
      "9 mod 27     0.000000\n",
      "10 mod 27    0.020833\n",
      "11 mod 27    0.062500\n",
      "12 mod 27    0.000000\n",
      "13 mod 27    0.104167\n",
      "14 mod 27    0.000000\n",
      "15 mod 27    0.000000\n",
      "16 mod 27    0.104167\n",
      "17 mod 27    0.062500\n",
      "18 mod 27    0.000000\n",
      "19 mod 27    0.020833\n",
      "20 mod 27    0.083333\n",
      "21 mod 27    0.000000\n",
      "22 mod 27    0.041667\n",
      "23 mod 27    0.083333\n",
      "24 mod 27    0.000000\n",
      "25 mod 27    0.041667\n",
      "26 mod 27    0.062500\n",
      "dtype: float64\n"
     ]
    }
   ],
   "source": [
    "q_catagorized2, q_distribution2 = mod27distribution(q_list2)"
   ]
  },
  {
   "cell_type": "code",
   "execution_count": 83,
   "metadata": {},
   "outputs": [
    {
     "name": "stdout",
     "output_type": "stream",
     "text": [
      "7 mod 27 0.0 0.10416666666666667\n",
      "13 mod 27 0.0 0.10416666666666667\n",
      "14 mod 27 0.07894736842105263 0.0\n",
      "16 mod 27 0.0 0.10416666666666667\n"
     ]
    }
   ],
   "source": [
    "compareDistribution(27, q_distribution, q_distribution2)"
   ]
  },
  {
   "cell_type": "code",
   "execution_count": 94,
   "metadata": {},
   "outputs": [
    {
     "name": "stdout",
     "output_type": "stream",
     "text": [
      "mod0\n"
     ]
    }
   ],
   "source": []
  },
  {
   "cell_type": "code",
   "execution_count": 84,
   "metadata": {},
   "outputs": [],
   "source": [
    "def mod9distribution(q_list):\n",
    "    total = len(q_list)\n",
    "    n0, n1, n2, n3, n4, n5, n6, n7, n8 = (0 for i in range(9))\n",
    "    q0, q1, q2, q3, q4, q5, q6, q7, q8 = ([] for i in range(9))\n",
    "    for q in q_list:\n",
    "        q_mod6 = q%9\n",
    "        if q_mod6 == 0:\n",
    "            q0.append(q)\n",
    "            n0+=1\n",
    "        elif q_mod6 == 1:\n",
    "            q1.append(q)\n",
    "            n1+=1\n",
    "        elif q_mod6 == 2:\n",
    "            q2.append(q)\n",
    "            n2+=1\n",
    "        elif q_mod6 == 3:\n",
    "            q3.append(q)\n",
    "            n3+=1\n",
    "        elif q_mod6 == 4:\n",
    "            q4.append(q)\n",
    "            n4+=1\n",
    "        elif q_mod6 == 5:\n",
    "            q5.append(q)\n",
    "            n5+=1\n",
    "        elif q_mod6 == 6:\n",
    "            q6.append(q)\n",
    "            n6+=1\n",
    "        elif q_mod6 == 7:\n",
    "            q7.append(q)\n",
    "            n7+=1\n",
    "        elif q_mod6 == 8:\n",
    "            q8.append(q)\n",
    "            n8+=1\n",
    "    q_catagorized = [q0, q1, q2, q3, q4, q5, q6, q7, q8]\n",
    "    q_distribution = [n0/total, n1/total, n2/total, n3/total, n4/total, n5/total, n6/total, n7/total, n8/total]\n",
    "    stat = pd.Series(q_distribution, index=[\"0 mod 9\", \"1 mod 9\", \"2 mod 9\", \"3 mod 9\", \"4 mod 9\", \"5 mod 9\", \"6 mod 9\", \"7 mod 9\", \"8 mod 9\"])\n",
    "    print(stat)\n",
    "    return q_catagorized, q_distribution"
   ]
  },
  {
   "cell_type": "code",
   "execution_count": 85,
   "metadata": {
    "scrolled": true
   },
   "outputs": [
    {
     "name": "stdout",
     "output_type": "stream",
     "text": [
      "0 mod 9    0.000000\n",
      "1 mod 9    0.315789\n",
      "2 mod 9    0.131579\n",
      "3 mod 9    0.000000\n",
      "4 mod 9    0.184211\n",
      "5 mod 9    0.184211\n",
      "6 mod 9    0.000000\n",
      "7 mod 9    0.026316\n",
      "8 mod 9    0.157895\n",
      "dtype: float64\n"
     ]
    }
   ],
   "source": [
    "q_catagorized, q_distribution = mod9distribution(q_list)"
   ]
  },
  {
   "cell_type": "code",
   "execution_count": 86,
   "metadata": {},
   "outputs": [
    {
     "name": "stdout",
     "output_type": "stream",
     "text": [
      "0 mod 9    0.000000\n",
      "1 mod 9    0.062500\n",
      "2 mod 9    0.187500\n",
      "3 mod 9    0.000000\n",
      "4 mod 9    0.187500\n",
      "5 mod 9    0.145833\n",
      "6 mod 9    0.000000\n",
      "7 mod 9    0.250000\n",
      "8 mod 9    0.166667\n",
      "dtype: float64\n"
     ]
    }
   ],
   "source": [
    "q_catagorized, q_distribution = mod9distribution(q_list2)"
   ]
  },
  {
   "cell_type": "code",
   "execution_count": 89,
   "metadata": {},
   "outputs": [],
   "source": [
    "def mod29distribution(q_list):\n",
    "    total = len(q_list)\n",
    "    n0, n1, n2, n3, n4, n5, n6, n7, n8, n9, n10, n11, n12, n13, n14, n15, n16, n17, n18, n19, n20, n21, n22, n23, n24, n25, n26, n27, n28 = (0 for i in range(29))\n",
    "    q0, q1, q2, q3, q4, q5, q6, q7, q8, q9, q10, q11, q12, q13, q14, q15, q16, q17, q18, q19, q20, q21, q22, q23, q24, q25, q26, q27, q28 = ([] for i in range(29))\n",
    "    for q in q_list:\n",
    "        q_mod8 = q%29\n",
    "        if q_mod8 == 1:\n",
    "            q0.append(q)\n",
    "            n0+=1\n",
    "        elif q_mod8 == 3:\n",
    "            q1.append(q)\n",
    "            n1+=1\n",
    "        elif q_mod8 == 5:\n",
    "            q2.append(q)\n",
    "            n2+=1\n",
    "        elif q_mod8 == 7:\n",
    "            q3.append(q)\n",
    "            n3+=1\n",
    "        elif q_mod8 == 9:\n",
    "            q4.append(q)\n",
    "            n4+=1\n",
    "        elif q_mod8 == 11:\n",
    "            q5.append(q)\n",
    "            n5+=1\n",
    "        elif q_mod8 == 13:\n",
    "            q6.append(q)\n",
    "            n6+=1\n",
    "        elif q_mod8 == 15:\n",
    "            q7.append(q)\n",
    "            n7+=1\n",
    "        elif q_mod8 == 17:\n",
    "            q8.append(q)\n",
    "            n8+=1\n",
    "        elif q_mod8 == 19:\n",
    "            q9.append(q)\n",
    "            n9+=1\n",
    "        elif q_mod8 == 21:\n",
    "            q10.append(q)\n",
    "            n10+=1\n",
    "        elif q_mod8 == 23:\n",
    "            n11+=1\n",
    "        elif q_mod8 == 25:\n",
    "            n12+=1\n",
    "        elif q_mod8 == 0:\n",
    "            n13+=1\n",
    "        elif q_mod8 == 2:\n",
    "            q14.append(q)\n",
    "            n14+=1\n",
    "        elif q_mod8 == 4:\n",
    "            q15.append(q)\n",
    "            n15+=1\n",
    "        elif q_mod8 == 6:\n",
    "            q16.append(q)\n",
    "            n16+=1\n",
    "        elif q_mod8 == 8:\n",
    "            q17.append(q)\n",
    "            n17+=1\n",
    "        elif q_mod8 == 10:\n",
    "            q18.append(q)\n",
    "            n18+=1\n",
    "        elif q_mod8 == 12:\n",
    "            q19.append(q)\n",
    "            n19+=1\n",
    "        elif q_mod8 == 14:\n",
    "            q20.append(q)\n",
    "            n20+=1\n",
    "        elif q_mod8 == 16:\n",
    "            q21.append(q)\n",
    "            n21+=1\n",
    "        elif q_mod8 == 18:\n",
    "            q22.append(q)\n",
    "            n22+=1\n",
    "        elif q_mod8 == 20:\n",
    "            q23.append(q)\n",
    "            n23+=1\n",
    "        elif q_mod8 == 22:\n",
    "            n24+=1\n",
    "        elif q_mod8 == 24:\n",
    "            n25+=1\n",
    "        elif q_mod8 == 26:\n",
    "            n26+=1\n",
    "        elif q_mod8 == 27:\n",
    "            n27+=1\n",
    "        elif q_mod8 == 28:\n",
    "            n28+=1\n",
    "    q_catagorized = [q0, q1, q2, q3, q4, q5, q6, q7, q8, q9, q10, q11, q12, q13, q14, q15, q16, q17, q18, q19, q20, q21, q22, q23, q24, q25, q26, q27, q28]\n",
    "    q_distribution = [n13/total, n0/total, n14/total, n1/total, n15/total, n2/total, n16/total, n3/total, n17/total, \n",
    "                      n4/total, n18/total, n5/total, n19/total, n6/total, n20/total, n7/total, n21/total, n8/total, \n",
    "                      n22/total, n9/total, n23/total, n10/total, n24/total, n11/total, n25/total, n12/total, n26/total, n27/total, n28/total]\n",
    "    stat = pd.Series(q_distribution, index=[\"0 mod 29\", \"1 mod 29\", \"2 mod 29\", \"3 mod 29\", \"4 mod 29\", \"5 mod 29\", \"6 mod 29\", \"7 mod 29\", \n",
    "                                            \"8 mod 29\", \"9 mod 29\", \"10 mod 29\", \"11 mod 29\", \"12 mod 29\", \"13 mod 29\", \"14 mod 29\", \"15 mod 29\"\n",
    "                                           , \"16 mod 29\", \"17 mod 29\", \"18 mod 29\", \"19 mod 29\", \"20 mod 29\", \"21 mod 29\", \"22 mod 29\", \"23 mod 29\"\n",
    "                                           , \"24 mod 29\", \"25 mod 29\", \"26 mod 29\", \"27 mod 29\", \"28 mod 29\"])\n",
    "    return q_catagorized, q_distribution"
   ]
  },
  {
   "cell_type": "code",
   "execution_count": 90,
   "metadata": {},
   "outputs": [],
   "source": [
    "q_catagorized, q_distribution = mod29distribution(q_list)"
   ]
  },
  {
   "cell_type": "code",
   "execution_count": 91,
   "metadata": {},
   "outputs": [],
   "source": [
    "q_catagorized2, q_distribution2 = mod29distribution(q_list2)"
   ]
  },
  {
   "cell_type": "code",
   "execution_count": 92,
   "metadata": {},
   "outputs": [
    {
     "name": "stdout",
     "output_type": "stream",
     "text": [
      "1 mod 29 0.0 0.041666666666666664\n",
      "3 mod 29 0.0 0.020833333333333332\n",
      "4 mod 29 0.0 0.041666666666666664\n",
      "6 mod 29 0.0 0.0625\n",
      "9 mod 29 0.0 0.041666666666666664\n",
      "13 mod 29 0.07894736842105263 0.0\n",
      "24 mod 29 0.0 0.041666666666666664\n"
     ]
    }
   ],
   "source": [
    "compareDistribution(29, q_distribution, q_distribution2)"
   ]
  },
  {
   "cell_type": "code",
   "execution_count": 99,
   "metadata": {},
   "outputs": [],
   "source": [
    "def mod25distribution(q_list):\n",
    "    total = len(q_list)\n",
    "    n0, n1, n2, n3, n4, n5, n6, n7, n8, n9, n10, n11, n13, n14, n15, n16, n17, n18, n19, n20, n21, n22, n23, n24, n25 = (0 for i in range(25))\n",
    "    q0, q1, q2, q3, q4, q5, q6, q7, q8, q9, q10, q11, q13, q14, q15, q16, q17, q18, q19, q20, q21, q22, q23, q24, q25 = ([] for i in range(25))\n",
    "    for q in q_list:\n",
    "        q_mod8 = q%25\n",
    "        if q_mod8 == 1:\n",
    "            q0.append(q)\n",
    "            n0+=1\n",
    "        elif q_mod8 == 3:\n",
    "            q1.append(q)\n",
    "            n1+=1\n",
    "        elif q_mod8 == 5:\n",
    "            q2.append(q)\n",
    "            n2+=1\n",
    "        elif q_mod8 == 7:\n",
    "            q3.append(q)\n",
    "            n3+=1\n",
    "        elif q_mod8 == 9:\n",
    "            q4.append(q)\n",
    "            n4+=1\n",
    "        elif q_mod8 == 11:\n",
    "            q5.append(q)\n",
    "            n5+=1\n",
    "        elif q_mod8 == 13:\n",
    "            q6.append(q)\n",
    "            n6+=1\n",
    "        elif q_mod8 == 15:\n",
    "            q7.append(q)\n",
    "            n7+=1\n",
    "        elif q_mod8 == 17:\n",
    "            q8.append(q)\n",
    "            n8+=1\n",
    "        elif q_mod8 == 19:\n",
    "            q9.append(q)\n",
    "            n9+=1\n",
    "        elif q_mod8 == 21:\n",
    "            q10.append(q)\n",
    "            n10+=1\n",
    "        elif q_mod8 == 23:\n",
    "            n11+=1\n",
    "        elif q_mod8 == 0:\n",
    "            n13+=1\n",
    "        elif q_mod8 == 2:\n",
    "            q14.append(q)\n",
    "            n14+=1\n",
    "        elif q_mod8 == 4:\n",
    "            q15.append(q)\n",
    "            n15+=1\n",
    "        elif q_mod8 == 6:\n",
    "            q16.append(q)\n",
    "            n16+=1\n",
    "        elif q_mod8 == 8:\n",
    "            q17.append(q)\n",
    "            n17+=1\n",
    "        elif q_mod8 == 10:\n",
    "            q18.append(q)\n",
    "            n18+=1\n",
    "        elif q_mod8 == 12:\n",
    "            q19.append(q)\n",
    "            n19+=1\n",
    "        elif q_mod8 == 14:\n",
    "            q20.append(q)\n",
    "            n20+=1\n",
    "        elif q_mod8 == 16:\n",
    "            q21.append(q)\n",
    "            n21+=1\n",
    "        elif q_mod8 == 18:\n",
    "            q22.append(q)\n",
    "            n22+=1\n",
    "        elif q_mod8 == 20:\n",
    "            q23.append(q)\n",
    "            n23+=1\n",
    "        elif q_mod8 == 22:\n",
    "            n24+=1\n",
    "        elif q_mod8 == 24:\n",
    "            n25+=1\n",
    "    q_catagorized = [q0, q1, q2, q3, q4, q5, q6, q7, q8, q9, q10, q11, q13, q14, q15, q16, q17, q18, q19, q20, q21, q22, q23, q24, q25]\n",
    "    q_distribution = [n13/total, n0/total, n14/total, n1/total, n15/total, n2/total, n16/total, n3/total, n17/total, \n",
    "                      n4/total, n18/total, n5/total, n19/total, n6/total, n20/total, n7/total, n21/total, n8/total, \n",
    "                      n22/total, n9/total, n23/total, n10/total, n24/total, n11/total, n25/total]\n",
    "    stat = pd.Series(q_distribution, index=[\"0 mod 25\", \"1 mod 25\", \"2 mod 25\", \"3 mod 25\", \"4 mod 25\", \"5 mod 25\", \"6 mod 25\", \"7 mod 25\", \n",
    "                                            \"8 mod 25\", \"9 mod 25\", \"10 mod 25\", \"11 mod 25\", \"12 mod 25\", \"13 mod 25\", \"14 mod 25\", \"15 mod 25\"\n",
    "                                           , \"16 mod 25\", \"17 mod 25\", \"18 mod 25\", \"19 mod 25\", \"20 mod 25\", \"21 mod 25\", \"22 mod 25\", \"23 mod 25\"\n",
    "                                           , \"24 mod 25\"])\n",
    "    return q_catagorized, q_distribution"
   ]
  },
  {
   "cell_type": "code",
   "execution_count": 100,
   "metadata": {},
   "outputs": [
    {
     "name": "stdout",
     "output_type": "stream",
     "text": [
      "mod classes, special case distrbt, good case distrbt\n",
      "3 mod 25 0.0 0.041666666666666664\n",
      "21 mod 25 0.10526315789473684 0.0\n",
      "23 mod 25 0.0 0.08333333333333333\n"
     ]
    }
   ],
   "source": [
    "q_catagorized, q_distribution = mod25distribution(q_list)\n",
    "q_catagorized2, q_distribution2 = mod25distribution(q_list2)\n",
    "compareDistribution(25, q_distribution, q_distribution2)"
   ]
  },
  {
   "cell_type": "code",
   "execution_count": 103,
   "metadata": {},
   "outputs": [],
   "source": [
    "def mod23distribution(q_list):\n",
    "    total = len(q_list)\n",
    "    n0, n1, n2, n3, n4, n5, n6, n7, n8, n9, n10, n13, n14, n15, n16, n17, n18, n19, n20, n21, n22, n23, n24 = (0 for i in range(23))\n",
    "    q0, q1, q2, q3, q4, q5, q6, q7, q8, q9, q10, q13, q14, q15, q16, q17, q18, q19, q20, q21, q22, q23, q24 = ([] for i in range(23))\n",
    "    for q in q_list:\n",
    "        q_mod8 = q%23\n",
    "        if q_mod8 == 1:\n",
    "            q0.append(q)\n",
    "            n0+=1\n",
    "        elif q_mod8 == 3:\n",
    "            q1.append(q)\n",
    "            n1+=1\n",
    "        elif q_mod8 == 5:\n",
    "            q2.append(q)\n",
    "            n2+=1\n",
    "        elif q_mod8 == 7:\n",
    "            q3.append(q)\n",
    "            n3+=1\n",
    "        elif q_mod8 == 9:\n",
    "            q4.append(q)\n",
    "            n4+=1\n",
    "        elif q_mod8 == 11:\n",
    "            q5.append(q)\n",
    "            n5+=1\n",
    "        elif q_mod8 == 13:\n",
    "            q6.append(q)\n",
    "            n6+=1\n",
    "        elif q_mod8 == 15:\n",
    "            q7.append(q)\n",
    "            n7+=1\n",
    "        elif q_mod8 == 17:\n",
    "            q8.append(q)\n",
    "            n8+=1\n",
    "        elif q_mod8 == 19:\n",
    "            q9.append(q)\n",
    "            n9+=1\n",
    "        elif q_mod8 == 21:\n",
    "            q10.append(q)\n",
    "            n10+=1\n",
    "        elif q_mod8 == 0:\n",
    "            n13+=1\n",
    "        elif q_mod8 == 2:\n",
    "            q14.append(q)\n",
    "            n14+=1\n",
    "        elif q_mod8 == 4:\n",
    "            q15.append(q)\n",
    "            n15+=1\n",
    "        elif q_mod8 == 6:\n",
    "            q16.append(q)\n",
    "            n16+=1\n",
    "        elif q_mod8 == 8:\n",
    "            q17.append(q)\n",
    "            n17+=1\n",
    "        elif q_mod8 == 10:\n",
    "            q18.append(q)\n",
    "            n18+=1\n",
    "        elif q_mod8 == 12:\n",
    "            q19.append(q)\n",
    "            n19+=1\n",
    "        elif q_mod8 == 14:\n",
    "            q20.append(q)\n",
    "            n20+=1\n",
    "        elif q_mod8 == 16:\n",
    "            q21.append(q)\n",
    "            n21+=1\n",
    "        elif q_mod8 == 18:\n",
    "            q22.append(q)\n",
    "            n22+=1\n",
    "        elif q_mod8 == 20:\n",
    "            q23.append(q)\n",
    "            n23+=1\n",
    "        elif q_mod8 == 22:\n",
    "            n24+=1\n",
    "    q_catagorized = [q0, q1, q2, q3, q4, q5, q6, q7, q8, q9, q10, q13, q14, q15, q16, q17, q18, q19, q20, q21, q22, q23, q24]\n",
    "    q_distribution = [n13/total, n0/total, n14/total, n1/total, n15/total, n2/total, n16/total, n3/total, n17/total, \n",
    "                      n4/total, n18/total, n5/total, n19/total, n6/total, n20/total, n7/total, n21/total, n8/total, \n",
    "                      n22/total, n9/total, n23/total, n10/total, n24/total]\n",
    "    stat = pd.Series(q_distribution, index=[\"0 mod 23\", \"1 mod 23\", \"2 mod 23\", \"3 mod 23\", \"4 mod 23\", \"5 mod 23\", \"6 mod 23\", \"7 mod 23\", \n",
    "                                            \"8 mod 23\", \"9 mod 23\", \"10 mod 23\", \"11 mod 23\", \"12 mod 23\", \"13 mod 23\", \"14 mod 23\", \"15 mod 23\"\n",
    "                                           , \"16 mod 23\", \"17 mod 23\", \"18 mod 23\", \"19 mod 23\", \"20 mod 23\", \"21 mod 23\", \"22 mod 23\"])\n",
    "    return q_catagorized, q_distribution"
   ]
  },
  {
   "cell_type": "code",
   "execution_count": 104,
   "metadata": {},
   "outputs": [
    {
     "name": "stdout",
     "output_type": "stream",
     "text": [
      "mod classes, special case distrbt, good case distrbt\n",
      "0 mod 23 0.0 0.020833333333333332\n",
      "13 mod 23 0.0 0.0625\n",
      "20 mod 23 0.0 0.0625\n"
     ]
    }
   ],
   "source": [
    "q_catagorized, q_distribution = mod23distribution(q_list)\n",
    "q_catagorized2, q_distribution2 = mod23distribution(q_list2)\n",
    "compareDistribution(23, q_distribution, q_distribution2)"
   ]
  },
  {
   "cell_type": "code",
   "execution_count": 105,
   "metadata": {},
   "outputs": [],
   "source": [
    "def mod19distribution(q_list):\n",
    "    total = len(q_list)\n",
    "    n0, n1, n2, n3, n4, n5, n6, n7, n8, n9, n10, n11, n12, n13, n14, n15, n16, n17, n18 = (0 for i in range(19))\n",
    "    q0, q1, q2, q3, q4, q5, q6, q7, q8, q9, q10, q11, q12, q13, q14, q15, q16, q17, q18 = ([] for i in range(19))\n",
    "    for q in q_list:\n",
    "        q_mod8 = q%19\n",
    "        if q_mod8 == 0:\n",
    "            q0.append(q)\n",
    "            n0+=1\n",
    "        elif q_mod8 == 1:\n",
    "            q1.append(q)\n",
    "            n1+=1\n",
    "        elif q_mod8 == 2:\n",
    "            q2.append(q)\n",
    "            n2+=1\n",
    "        elif q_mod8 == 3:\n",
    "            q3.append(q)\n",
    "            n3+=1\n",
    "        elif q_mod8 == 4:\n",
    "            q4.append(q)\n",
    "            n4+=1\n",
    "        elif q_mod8 == 5:\n",
    "            q5.append(q)\n",
    "            n5+=1\n",
    "        elif q_mod8 == 6:\n",
    "            q6.append(q)\n",
    "            n6+=1\n",
    "        elif q_mod8 == 7:\n",
    "            q7.append(q)\n",
    "            n7+=1\n",
    "        elif q_mod8 == 8:\n",
    "            q8.append(q)\n",
    "            n8+=1\n",
    "        elif q_mod8 == 9:\n",
    "            q9.append(q)\n",
    "            n9+=1\n",
    "        elif q_mod8 == 10:\n",
    "            q10.append(q)\n",
    "            n10+=1\n",
    "        elif q_mod8 == 11:\n",
    "            q11.append(q)\n",
    "            n11+=1\n",
    "        elif q_mod8 == 12:\n",
    "            q12.append(q)\n",
    "            n12+=1\n",
    "        elif q_mod8 == 13:\n",
    "            q13.append(q)\n",
    "            n13+=1\n",
    "        elif q_mod8 == 14:\n",
    "            q14.append(q)\n",
    "            n14+=1\n",
    "        elif q_mod8 == 15:\n",
    "            q15.append(q)\n",
    "            n15+=1\n",
    "        elif q_mod8 == 16:\n",
    "            q16.append(q)\n",
    "            n16+=1\n",
    "        elif q_mod8 == 17:\n",
    "            q17.append(q)\n",
    "            n17+=1\n",
    "        elif q_mod8 == 18:\n",
    "            q18.append(q)\n",
    "            n18+=1\n",
    "    q_catagorized = [q0, q1, q2, q3, q4, q5, q6, q7, q8, q9, q10, q11, q12, q13, q14, q15, q16, q17, q18]\n",
    "    q_distribution = [n0/total, n1/total, n2/total, n3/total, n4/total, n5/total, n6/total, n7/total,\n",
    "                     n8/total, n9/total, n10/total, n11/total, n12/total, n13/total, n14/total, n15/total\n",
    "                     , n16/total, n17/total, n18/total]\n",
    "    stat = pd.Series(q_distribution, index=[\"0 mod 19\", \"1 mod 19\", \"2 mod 19\", \"3 mod 19\", \"4 mod 19\", \"5 mod 19\", \"6 mod 19\", \"7 mod 19\", \n",
    "                                            \"8 mod 19\", \"9 mod 19\", \"10 mod 19\", \"11 mod 19\", \"12 mod 19\", \"13 mod 19\", \"14 mod 19\", \"15 mod 19\"\n",
    "                                           , \"16 mod 19\", \"17 mod 19\", \"18 mod 19\"])\n",
    "    return q_catagorized, q_distribution"
   ]
  },
  {
   "cell_type": "code",
   "execution_count": 117,
   "metadata": {},
   "outputs": [
    {
     "name": "stdout",
     "output_type": "stream",
     "text": [
      "mod classes, special case distrbt, good case distrbt\n",
      "0 mod 19 0.0 0.020833333333333332\n",
      "8 mod 19 0.0 0.10416666666666667\n",
      "15 mod 19 0.0 0.041666666666666664\n"
     ]
    }
   ],
   "source": [
    "q_catagorized, q_distribution = mod19distribution(q_list)\n",
    "q_catagorized2, q_distribution2 = mod19distribution(q_list2)\n",
    "compareDistribution(19, q_distribution, q_distribution2)"
   ]
  },
  {
   "cell_type": "code",
   "execution_count": 118,
   "metadata": {},
   "outputs": [
    {
     "name": "stdout",
     "output_type": "stream",
     "text": [
      "0 mod 19     0.000000\n",
      "1 mod 19     0.078947\n",
      "2 mod 19     0.052632\n",
      "3 mod 19     0.052632\n",
      "4 mod 19     0.078947\n",
      "5 mod 19     0.052632\n",
      "6 mod 19     0.052632\n",
      "7 mod 19     0.078947\n",
      "8 mod 19     0.000000\n",
      "9 mod 19     0.052632\n",
      "10 mod 19    0.078947\n",
      "11 mod 19    0.026316\n",
      "12 mod 19    0.026316\n",
      "13 mod 19    0.105263\n",
      "14 mod 19    0.026316\n",
      "15 mod 19    0.000000\n",
      "16 mod 19    0.078947\n",
      "17 mod 19    0.078947\n",
      "18 mod 19    0.078947\n",
      "dtype: float64\n"
     ]
    }
   ],
   "source": [
    "stat = pd.Series(q_distribution, index=[\"0 mod 19\", \"1 mod 19\", \"2 mod 19\", \"3 mod 19\", \"4 mod 19\", \"5 mod 19\", \"6 mod 19\", \"7 mod 19\", \n",
    "                                            \"8 mod 19\", \"9 mod 19\", \"10 mod 19\", \"11 mod 19\", \"12 mod 19\", \"13 mod 19\", \"14 mod 19\", \"15 mod 19\"\n",
    "                                           , \"16 mod 19\", \"17 mod 19\", \"18 mod 19\"])\n",
    "print(stat)"
   ]
  },
  {
   "cell_type": "code",
   "execution_count": 107,
   "metadata": {},
   "outputs": [],
   "source": [
    "def mod13distribution(q_list):\n",
    "    total = len(q_list)\n",
    "    n0, n1, n2, n3, n4, n5, n6, n7, n8, n9, n10, n11, n12 = (0 for i in range(13))\n",
    "    q0, q1, q2, q3, q4, q5, q6, q7, q8, q9, q10, q11, q12 = ([] for i in range(13))\n",
    "    for q in q_list:\n",
    "        q_mod8 = q%13\n",
    "        if q_mod8 == 0:\n",
    "            q0.append(q)\n",
    "            n0+=1\n",
    "        elif q_mod8 == 1:\n",
    "            q1.append(q)\n",
    "            n1+=1\n",
    "        elif q_mod8 == 2:\n",
    "            q2.append(q)\n",
    "            n2+=1\n",
    "        elif q_mod8 == 3:\n",
    "            q3.append(q)\n",
    "            n3+=1\n",
    "        elif q_mod8 == 4:\n",
    "            q4.append(q)\n",
    "            n4+=1\n",
    "        elif q_mod8 == 5:\n",
    "            q5.append(q)\n",
    "            n5+=1\n",
    "        elif q_mod8 == 6:\n",
    "            q6.append(q)\n",
    "            n6+=1\n",
    "        elif q_mod8 == 7:\n",
    "            q7.append(q)\n",
    "            n7+=1\n",
    "        elif q_mod8 == 8:\n",
    "            q8.append(q)\n",
    "            n8+=1\n",
    "        elif q_mod8 == 9:\n",
    "            q9.append(q)\n",
    "            n9+=1\n",
    "        elif q_mod8 == 10:\n",
    "            q10.append(q)\n",
    "            n10+=1\n",
    "        elif q_mod8 == 11:\n",
    "            q11.append(q)\n",
    "            n11+=1\n",
    "        elif q_mod8 == 12:\n",
    "            q12.append(q)\n",
    "            n12+=1\n",
    "    q_catagorized = [q0, q1, q2, q3, q4, q5, q6, q7, q8, q9, q10, q11, q12]\n",
    "    q_distribution = [n0/total, n1/total, n2/total, n3/total, n4/total, n5/total, n6/total, n7/total,\n",
    "                     n8/total, n9/total, n10/total, n11/total, n12/total]\n",
    "    stat = pd.Series(q_distribution, index=[\"0 mod 19\", \"1 mod 19\", \"2 mod 19\", \"3 mod 19\", \"4 mod 19\", \"5 mod 19\", \"6 mod 19\", \"7 mod 19\", \n",
    "                                            \"8 mod 19\", \"9 mod 19\", \"10 mod 19\", \"11 mod 19\", \"12 mod 19\"])\n",
    "    return q_catagorized, q_distribution"
   ]
  },
  {
   "cell_type": "code",
   "execution_count": 108,
   "metadata": {},
   "outputs": [
    {
     "name": "stdout",
     "output_type": "stream",
     "text": [
      "mod classes, special case distrbt, good case distrbt\n"
     ]
    }
   ],
   "source": [
    "q_catagorized, q_distribution = mod13distribution(q_list)\n",
    "q_catagorized2, q_distribution2 = mod13distribution(q_list2)\n",
    "compareDistribution(13, q_distribution, q_distribution2)"
   ]
  },
  {
   "cell_type": "code",
   "execution_count": 111,
   "metadata": {},
   "outputs": [],
   "source": [
    "def mod15distribution(q_list):\n",
    "    total = len(q_list)\n",
    "    n0, n1, n2, n3, n4, n5, n6, n7, n8, n9, n10, n11, n12, n13, n14 = (0 for i in range(15))\n",
    "    q0, q1, q2, q3, q4, q5, q6, q7, q8, q9, q10, q11, q12, q13, q14 = ([] for i in range(15))\n",
    "    for q in q_list:\n",
    "        q_mod8 = q%15\n",
    "        if q_mod8 == 0:\n",
    "            q0.append(q)\n",
    "            n0+=1\n",
    "        elif q_mod8 == 1:\n",
    "            q1.append(q)\n",
    "            n1+=1\n",
    "        elif q_mod8 == 2:\n",
    "            q2.append(q)\n",
    "            n2+=1\n",
    "        elif q_mod8 == 3:\n",
    "            q3.append(q)\n",
    "            n3+=1\n",
    "        elif q_mod8 == 4:\n",
    "            q4.append(q)\n",
    "            n4+=1\n",
    "        elif q_mod8 == 5:\n",
    "            q5.append(q)\n",
    "            n5+=1\n",
    "        elif q_mod8 == 6:\n",
    "            q6.append(q)\n",
    "            n6+=1\n",
    "        elif q_mod8 == 7:\n",
    "            q7.append(q)\n",
    "            n7+=1\n",
    "        elif q_mod8 == 8:\n",
    "            q8.append(q)\n",
    "            n8+=1\n",
    "        elif q_mod8 == 9:\n",
    "            q9.append(q)\n",
    "            n9+=1\n",
    "        elif q_mod8 == 10:\n",
    "            q10.append(q)\n",
    "            n10+=1\n",
    "        elif q_mod8 == 11:\n",
    "            q11.append(q)\n",
    "            n11+=1\n",
    "        elif q_mod8 == 12:\n",
    "            q12.append(q)\n",
    "            n12+=1\n",
    "        elif q_mod8 == 13:\n",
    "            q13.append(q)\n",
    "            n13+=1\n",
    "        elif q_mod8 == 14:\n",
    "            q14.append(q)\n",
    "            n14+=1\n",
    "    q_catagorized = [q0, q1, q2, q3, q4, q5, q6, q7, q8, q9, q10, q11, q12, q13, q14]\n",
    "    q_distribution = [n0/total, n1/total, n2/total, n3/total, n4/total, n5/total, n6/total, n7/total,\n",
    "                     n8/total, n9/total, n10/total, n11/total, n12/total, n13/total, n14/total]\n",
    "    stat = pd.Series(q_distribution, index=[\"0 mod 19\", \"1 mod 19\", \"2 mod 19\", \"3 mod 19\", \"4 mod 19\", \"5 mod 19\", \"6 mod 19\", \"7 mod 19\", \n",
    "                                            \"8 mod 19\", \"9 mod 19\", \"10 mod 19\", \"11 mod 19\", \"12 mod 19\", \"13 mod 19\", \"14 mod 19\"])\n",
    "    return q_catagorized, q_distribution"
   ]
  },
  {
   "cell_type": "code",
   "execution_count": 112,
   "metadata": {},
   "outputs": [
    {
     "name": "stdout",
     "output_type": "stream",
     "text": [
      "mod classes, special case distrbt, good case distrbt\n"
     ]
    }
   ],
   "source": [
    "q_catagorized, q_distribution = mod15distribution(q_list)\n",
    "q_catagorized2, q_distribution2 = mod15distribution(q_list2)\n",
    "compareDistribution(15, q_distribution, q_distribution2)"
   ]
  },
  {
   "cell_type": "code",
   "execution_count": 113,
   "metadata": {},
   "outputs": [],
   "source": [
    "def mod17distribution(q_list):\n",
    "    total = len(q_list)\n",
    "    n0, n1, n2, n3, n4, n5, n6, n7, n8, n9, n10, n11, n12, n13, n14, n15, n16 = (0 for i in range(17))\n",
    "    q0, q1, q2, q3, q4, q5, q6, q7, q8, q9, q10, q11, q12, q13, q14, q15, q16 = ([] for i in range(17))\n",
    "    for q in q_list:\n",
    "        q_mod8 = q%17\n",
    "        if q_mod8 == 0:\n",
    "            q0.append(q)\n",
    "            n0+=1\n",
    "        elif q_mod8 == 1:\n",
    "            q1.append(q)\n",
    "            n1+=1\n",
    "        elif q_mod8 == 2:\n",
    "            q2.append(q)\n",
    "            n2+=1\n",
    "        elif q_mod8 == 3:\n",
    "            q3.append(q)\n",
    "            n3+=1\n",
    "        elif q_mod8 == 4:\n",
    "            q4.append(q)\n",
    "            n4+=1\n",
    "        elif q_mod8 == 5:\n",
    "            q5.append(q)\n",
    "            n5+=1\n",
    "        elif q_mod8 == 6:\n",
    "            q6.append(q)\n",
    "            n6+=1\n",
    "        elif q_mod8 == 7:\n",
    "            q7.append(q)\n",
    "            n7+=1\n",
    "        elif q_mod8 == 8:\n",
    "            q8.append(q)\n",
    "            n8+=1\n",
    "        elif q_mod8 == 9:\n",
    "            q9.append(q)\n",
    "            n9+=1\n",
    "        elif q_mod8 == 10:\n",
    "            q10.append(q)\n",
    "            n10+=1\n",
    "        elif q_mod8 == 11:\n",
    "            q11.append(q)\n",
    "            n11+=1\n",
    "        elif q_mod8 == 12:\n",
    "            q12.append(q)\n",
    "            n12+=1\n",
    "        elif q_mod8 == 13:\n",
    "            q13.append(q)\n",
    "            n13+=1\n",
    "        elif q_mod8 == 14:\n",
    "            q14.append(q)\n",
    "            n14+=1\n",
    "        elif q_mod8 == 15:\n",
    "            q15.append(q)\n",
    "            n15+=1\n",
    "        elif q_mod8 == 16:\n",
    "            q16.append(q)\n",
    "            n16+=1\n",
    "    q_catagorized = [q0, q1, q2, q3, q4, q5, q6, q7, q8, q9, q10, q11, q12, q13, q14, q15, q16]\n",
    "    q_distribution = [n0/total, n1/total, n2/total, n3/total, n4/total, n5/total, n6/total, n7/total,\n",
    "                     n8/total, n9/total, n10/total, n11/total, n12/total, n13/total, n14/total, n15/total\n",
    "                     , n16/total]\n",
    "    stat = pd.Series(q_distribution, index=[\"0 mod 19\", \"1 mod 19\", \"2 mod 19\", \"3 mod 19\", \"4 mod 19\", \"5 mod 19\", \"6 mod 19\", \"7 mod 19\", \n",
    "                                            \"8 mod 19\", \"9 mod 19\", \"10 mod 19\", \"11 mod 19\", \"12 mod 19\", \"13 mod 19\", \"14 mod 19\", \"15 mod 19\"\n",
    "                                           , \"16 mod 19\"])\n",
    "    return q_catagorized, q_distribution"
   ]
  },
  {
   "cell_type": "code",
   "execution_count": 114,
   "metadata": {},
   "outputs": [
    {
     "name": "stdout",
     "output_type": "stream",
     "text": [
      "mod classes, special case distrbt, good case distrbt\n",
      "4 mod 17 0.07894736842105263 0.0\n",
      "7 mod 17 0.0 0.10416666666666667\n"
     ]
    }
   ],
   "source": [
    "q_catagorized, q_distribution = mod17distribution(q_list)\n",
    "q_catagorized2, q_distribution2 = mod17distribution(q_list2)\n",
    "compareDistribution(17, q_distribution, q_distribution2)"
   ]
  },
  {
   "cell_type": "code",
   "execution_count": 125,
   "metadata": {},
   "outputs": [],
   "source": [
    "def mod28distribution(q_list):\n",
    "    total = len(q_list)\n",
    "    n0, n1, n2, n3, n4, n5, n6, n7, n8, n9, n10, n11, n12, n13 = (0 for i in range(14))\n",
    "    q0, q1, q2, q3, q4, q5, q6, q7, q8, q9, q10, q11, q12, q13 = ([] for i in range(14))\n",
    "    for q in q_list:\n",
    "        q_mod8 = q%28\n",
    "        if q_mod8 == 1:\n",
    "            q0.append(q)\n",
    "            n0+=1\n",
    "        elif q_mod8 == 3:\n",
    "            q1.append(q)\n",
    "            n1+=1\n",
    "        elif q_mod8 == 5:\n",
    "            q2.append(q)\n",
    "            n2+=1\n",
    "        elif q_mod8 == 7:\n",
    "            q3.append(q)\n",
    "            n3+=1\n",
    "        elif q_mod8 == 9:\n",
    "            q4.append(q)\n",
    "            n4+=1\n",
    "        elif q_mod8 == 11:\n",
    "            q5.append(q)\n",
    "            n5+=1\n",
    "        elif q_mod8 == 13:\n",
    "            q6.append(q)\n",
    "            n6+=1\n",
    "        elif q_mod8 == 15:\n",
    "            q7.append(q)\n",
    "            n7+=1\n",
    "        elif q_mod8 == 17:\n",
    "            q8.append(q)\n",
    "            n8+=1\n",
    "        elif q_mod8 == 19:\n",
    "            q9.append(q)\n",
    "            n9+=1\n",
    "        elif q_mod8 == 21:\n",
    "            q10.append(q)\n",
    "            n10+=1\n",
    "        elif q_mod8 == 23:\n",
    "            n11+=1\n",
    "        elif q_mod8 == 25:\n",
    "            n12+=1\n",
    "        elif q_mod8 == 27:\n",
    "            n13+=1\n",
    "    q_catagorized = [q0, q1, q2, q3, q4, q5, q6, q7, q8, q9, q10, q11, q12, q13]\n",
    "    q_distribution = [n0/total, n1/total, n2/total, n3/total, n4/total, n5/total, n6/total, n7/total,\n",
    "                     n8/total, n9/total, n10/total, n11/total, n12/total, n13/total]\n",
    "    stat = pd.Series(q_distribution, index=[\"0 mod 28\", \"1 mod 28\", \"2 mod 28\", \"3 mod 28\", \"4 mod 28\", \"5 mod 28\", \"6 mod 28\", \"7 mod 28\", \n",
    "                                            \"8 mod 28\", \"9 mod 28\", \"10 mod 28\", \"11 mod 28\", \"12 mod 28\", \"12 mod 28\"])\n",
    "    return q_catagorized, q_distribution"
   ]
  },
  {
   "cell_type": "code",
   "execution_count": 126,
   "metadata": {},
   "outputs": [
    {
     "name": "stdout",
     "output_type": "stream",
     "text": [
      "mod classes, special case distrbt, good case distrbt\n",
      "3 mod 14 0.0 0.020833333333333332\n"
     ]
    }
   ],
   "source": [
    "q_catagorized, q_distribution = mod28distribution(q_list)\n",
    "q_catagorized2, q_distribution2 = mod28distribution(q_list2)\n",
    "compareDistribution(14, q_distribution, q_distribution2)"
   ]
  },
  {
   "cell_type": "code",
   "execution_count": 127,
   "metadata": {},
   "outputs": [],
   "source": [
    "def mod30distribution(q_list):\n",
    "    total = len(q_list)\n",
    "    n0, n1, n2, n3, n4, n5, n6, n7, n8, n9, n10, n11, n12, n13, n14 = (0 for i in range(15))\n",
    "    q0, q1, q2, q3, q4, q5, q6, q7, q8, q9, q10, q11, q12, q13, q14 = ([] for i in range(15))\n",
    "    for q in q_list:\n",
    "        q_mod8 = q%30\n",
    "        if q_mod8 == 1:\n",
    "            q0.append(q)\n",
    "            n0+=1\n",
    "        elif q_mod8 == 3:\n",
    "            q1.append(q)\n",
    "            n1+=1\n",
    "        elif q_mod8 == 5:\n",
    "            q2.append(q)\n",
    "            n2+=1\n",
    "        elif q_mod8 == 7:\n",
    "            q3.append(q)\n",
    "            n3+=1\n",
    "        elif q_mod8 == 9:\n",
    "            q4.append(q)\n",
    "            n4+=1\n",
    "        elif q_mod8 == 11:\n",
    "            q5.append(q)\n",
    "            n5+=1\n",
    "        elif q_mod8 == 13:\n",
    "            q6.append(q)\n",
    "            n6+=1\n",
    "        elif q_mod8 == 15:\n",
    "            q7.append(q)\n",
    "            n7+=1\n",
    "        elif q_mod8 == 17:\n",
    "            q8.append(q)\n",
    "            n8+=1\n",
    "        elif q_mod8 == 19:\n",
    "            q9.append(q)\n",
    "            n9+=1\n",
    "        elif q_mod8 == 21:\n",
    "            q10.append(q)\n",
    "            n10+=1\n",
    "        elif q_mod8 == 23:\n",
    "            n11+=1\n",
    "        elif q_mod8 == 25:\n",
    "            n12+=1\n",
    "        elif q_mod8 == 27:\n",
    "            n13+=1\n",
    "        elif q_mod8 == 29:\n",
    "            n14+=1\n",
    "    q_catagorized = [q0, q1, q2, q3, q4, q5, q6, q7, q8, q9, q10, q11, q12, q13, q14]\n",
    "    q_distribution = [n0/total, n1/total, n2/total, n3/total, n4/total, n5/total, n6/total, n7/total,\n",
    "                     n8/total, n9/total, n10/total, n11/total, n12/total, n13/total, n14/total]\n",
    "    stat = pd.Series(q_distribution, index=[\"0 mod 30\", \"1 mod 30\", \"2 mod 30\", \"3 mod 30\", \"4 mod 30\", \"5 mod 30\", \"6 mod 30\", \"7 mod 30\", \n",
    "                                            \"8 mod 30\", \"9 mod 30\", \"10 mod 30\", \"11 mod 30\", \"12 mod 30\", \"12 mod 30\", \"12 mod 30\"])\n",
    "    return q_catagorized, q_distribution"
   ]
  },
  {
   "cell_type": "code",
   "execution_count": 128,
   "metadata": {},
   "outputs": [
    {
     "name": "stdout",
     "output_type": "stream",
     "text": [
      "mod classes, special case distrbt, good case distrbt\n"
     ]
    }
   ],
   "source": [
    "q_catagorized, q_distribution = mod30distribution(q_list)\n",
    "q_catagorized2, q_distribution2 = mod30distribution(q_list2)\n",
    "compareDistribution(15, q_distribution, q_distribution2)"
   ]
  },
  {
   "cell_type": "code",
   "execution_count": null,
   "metadata": {},
   "outputs": [],
   "source": []
  }
 ],
 "metadata": {
  "kernelspec": {
   "display_name": "Python 3",
   "language": "python",
   "name": "python3"
  },
  "language_info": {
   "codemirror_mode": {
    "name": "ipython",
    "version": 3
   },
   "file_extension": ".py",
   "mimetype": "text/x-python",
   "name": "python",
   "nbconvert_exporter": "python",
   "pygments_lexer": "ipython3",
   "version": "3.8.6"
  }
 },
 "nbformat": 4,
 "nbformat_minor": 4
}
